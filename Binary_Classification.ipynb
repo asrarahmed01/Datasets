{
 "cells": [
  {
   "cell_type": "code",
   "execution_count": 1,
   "metadata": {},
   "outputs": [],
   "source": [
    "import pandas as pd\n",
    "import matplotlib.pyplot as plt\n",
    "import seaborn as sns\n",
    "import numpy as np\n",
    "import scipy.stats as sc\n",
    "from scipy import stats\n",
    "\n",
    "\n",
    "from sklearn.model_selection import train_test_split\n",
    "from sklearn.model_selection import GridSearchCV\n",
    "from sklearn.model_selection import cross_val_score\n",
    "from sklearn.feature_selection import chi2\n",
    "from sklearn.decomposition import PCA\n",
    "from sklearn.preprocessing import StandardScaler\n",
    "\n",
    "\n",
    "import statsmodels.api as sm\n",
    "from sklearn.linear_model import LogisticRegression\n",
    "from sklearn.ensemble import RandomForestClassifier\n",
    "from sklearn.ensemble import GradientBoostingClassifier\n",
    "from sklearn.ensemble import AdaBoostClassifier\n",
    "\n",
    "\n",
    "from sklearn import metrics\n",
    "from sklearn.metrics import classification_report\n",
    "from sklearn.metrics import confusion_matrix\n",
    "from sklearn.metrics import precision_score\n",
    "from sklearn.metrics import recall_score\n",
    "from sklearn.metrics import f1_score\n",
    "from sklearn.metrics import accuracy_score\n",
    "\n",
    "\n",
    "import warnings\n",
    "warnings.filterwarnings(\"ignore\")\n",
    "pd.set_option('display.max_columns', None)\n",
    "pd.set_option('display.max_rows', None)"
   ]
  },
  {
   "cell_type": "markdown",
   "metadata": {},
   "source": [
    "**1. Introducing the Data**    \n",
    "**2. Data Cleaning and Feature Engineering**     \n",
    "A. Handling missing data                    \n",
    "B. Dealing with Data Types (Feature Engineering)                                                \n",
    "**3. Data Exploration**     \n",
    "A. Target Distributions         \n",
    "B. Feature Distributions    \n",
    "C. OverSampling (due to Target imbalance)               \n",
    "**4. Modeling**          \n",
    "A. Baseline                                              \n",
    "B. Bagging Algorithm (Random Forest) (Parallel Learners)                                               \n",
    "C. Boosting Algorithm (Gradient Boosting)  (Serial Learners)                                \n",
    "D. Feature Importance                             \n",
    "**5. Conclusion**           \n",
    "A. Winner"
   ]
  },
  {
   "cell_type": "markdown",
   "metadata": {},
   "source": [
    "## 1. Introduction the Data\n",
    "\n",
    "This is a supervised binary classification model whose goal is to predict \"False\" 911 Calls. \"False\" 911 calls are defined as calls that were either without any merit, subsequently cancelled and/or where the responding authorities failed to locate the subject resulting in a waste of taxpayers' dollars.\n",
    "\n",
    "The dataset consists of 911 calls made in the city of San Franciso for all of 2018. The dataset consists of almost 300,000 observations and 33 features and target. The target is labeled as \"Call Final Disposition\" and is of categorical nature with high cardinality. Most of the useful features are also categorical with high cardinality and a few timestamp features. There were only a couple of continous features."
   ]
  },
  {
   "cell_type": "code",
   "execution_count": 2,
   "metadata": {},
   "outputs": [],
   "source": [
    "#Setting up data types so it takes less memory when it reads in the data.\n",
    "\n",
    "column_types={\"Call Number\":float,'Unit ID':object, 'Incident Number':object, 'Call Type':object, 'Call Date':object,\n",
    "       'Watch Date':object, 'Received DtTm':object, 'Entry DtTm':object, 'Dispatch DtTm':object,\n",
    "       'Response DtTm':object, 'On Scene DtTm':object, 'Transport DtTm':object, 'Hospital DtTm':object,\n",
    "       'Call Final Disposition':object, 'Available DtTm':object, 'Address':object, 'City':object,\n",
    "       'Zipcode of Incident':object, 'Battalion':object, 'Station Area':object, 'Box':object,\n",
    "       'Original Priority':object, 'Priority':object, 'Final Priority':float, 'ALS Unit':bool,\n",
    "       'Call Type Group':object, 'Number of Alarms':float, 'Unit Type':object,\n",
    "       'Unit sequence in call dispatch':float, 'Fire Prevention District':object,\n",
    "       'Supervisor District':object, 'Neighborhooods - Analysis Boundaries':object,\n",
    "       'Location':object, 'RowID':object}"
   ]
  },
  {
   "cell_type": "code",
   "execution_count": 3,
   "metadata": {},
   "outputs": [],
   "source": [
    "fire_df=pd.read_csv(r'C:\\Users\\admin\\Desktop\\Fire_Department_Calls_for_Service-2018.csv',dtype=column_types)"
   ]
  },
  {
   "cell_type": "code",
   "execution_count": 4,
   "metadata": {},
   "outputs": [
    {
     "name": "stdout",
     "output_type": "stream",
     "text": [
      "(283067, 34)\n"
     ]
    },
    {
     "data": {
      "text/html": [
       "<div>\n",
       "<style scoped>\n",
       "    .dataframe tbody tr th:only-of-type {\n",
       "        vertical-align: middle;\n",
       "    }\n",
       "\n",
       "    .dataframe tbody tr th {\n",
       "        vertical-align: top;\n",
       "    }\n",
       "\n",
       "    .dataframe thead th {\n",
       "        text-align: right;\n",
       "    }\n",
       "</style>\n",
       "<table border=\"1\" class=\"dataframe\">\n",
       "  <thead>\n",
       "    <tr style=\"text-align: right;\">\n",
       "      <th></th>\n",
       "      <th>Call Number</th>\n",
       "      <th>Unit ID</th>\n",
       "      <th>Incident Number</th>\n",
       "      <th>Call Type</th>\n",
       "      <th>Call Date</th>\n",
       "      <th>Watch Date</th>\n",
       "      <th>Received DtTm</th>\n",
       "      <th>Entry DtTm</th>\n",
       "      <th>Dispatch DtTm</th>\n",
       "      <th>Response DtTm</th>\n",
       "      <th>On Scene DtTm</th>\n",
       "      <th>Transport DtTm</th>\n",
       "      <th>Hospital DtTm</th>\n",
       "      <th>Call Final Disposition</th>\n",
       "      <th>Available DtTm</th>\n",
       "      <th>Address</th>\n",
       "      <th>City</th>\n",
       "      <th>Zipcode of Incident</th>\n",
       "      <th>Battalion</th>\n",
       "      <th>Station Area</th>\n",
       "      <th>Box</th>\n",
       "      <th>Original Priority</th>\n",
       "      <th>Priority</th>\n",
       "      <th>Final Priority</th>\n",
       "      <th>ALS Unit</th>\n",
       "      <th>Call Type Group</th>\n",
       "      <th>Number of Alarms</th>\n",
       "      <th>Unit Type</th>\n",
       "      <th>Unit sequence in call dispatch</th>\n",
       "      <th>Fire Prevention District</th>\n",
       "      <th>Supervisor District</th>\n",
       "      <th>Neighborhooods - Analysis Boundaries</th>\n",
       "      <th>Location</th>\n",
       "      <th>RowID</th>\n",
       "    </tr>\n",
       "  </thead>\n",
       "  <tbody>\n",
       "    <tr>\n",
       "      <th>0</th>\n",
       "      <td>180014109.0</td>\n",
       "      <td>T10</td>\n",
       "      <td>18000491</td>\n",
       "      <td>Alarms</td>\n",
       "      <td>1/1/2018</td>\n",
       "      <td>1/1/2018</td>\n",
       "      <td>1/1/2018 23:00</td>\n",
       "      <td>1/1/2018 23:02</td>\n",
       "      <td>1/1/2018 23:03</td>\n",
       "      <td>1/1/2018 23:04</td>\n",
       "      <td>NaN</td>\n",
       "      <td>NaN</td>\n",
       "      <td>NaN</td>\n",
       "      <td>Fire</td>\n",
       "      <td>1/1/2018 23:20</td>\n",
       "      <td>1000 Block of GIRARD RD</td>\n",
       "      <td>Presidio</td>\n",
       "      <td>94129</td>\n",
       "      <td>B99</td>\n",
       "      <td>51</td>\n",
       "      <td>4612</td>\n",
       "      <td>3</td>\n",
       "      <td>3</td>\n",
       "      <td>3.0</td>\n",
       "      <td>False</td>\n",
       "      <td>Alarm</td>\n",
       "      <td>1.0</td>\n",
       "      <td>TRUCK</td>\n",
       "      <td>3.0</td>\n",
       "      <td>7</td>\n",
       "      <td>2</td>\n",
       "      <td>Presidio</td>\n",
       "      <td>(37.801325129454, -122.453498244358)</td>\n",
       "      <td>180014109-T10</td>\n",
       "    </tr>\n",
       "    <tr>\n",
       "      <th>1</th>\n",
       "      <td>180021641.0</td>\n",
       "      <td>T07</td>\n",
       "      <td>18000676</td>\n",
       "      <td>Alarms</td>\n",
       "      <td>1/2/2018</td>\n",
       "      <td>1/2/2018</td>\n",
       "      <td>1/2/2018 12:01</td>\n",
       "      <td>1/2/2018 12:03</td>\n",
       "      <td>1/2/2018 12:03</td>\n",
       "      <td>NaN</td>\n",
       "      <td>NaN</td>\n",
       "      <td>NaN</td>\n",
       "      <td>NaN</td>\n",
       "      <td>Fire</td>\n",
       "      <td>1/2/2018 12:07</td>\n",
       "      <td>900 Block of DE HARO ST</td>\n",
       "      <td>San Francisco</td>\n",
       "      <td>94107</td>\n",
       "      <td>B10</td>\n",
       "      <td>37</td>\n",
       "      <td>2511</td>\n",
       "      <td>3</td>\n",
       "      <td>3</td>\n",
       "      <td>3.0</td>\n",
       "      <td>False</td>\n",
       "      <td>Alarm</td>\n",
       "      <td>1.0</td>\n",
       "      <td>TRUCK</td>\n",
       "      <td>3.0</td>\n",
       "      <td>10</td>\n",
       "      <td>10</td>\n",
       "      <td>Potrero Hill</td>\n",
       "      <td>(37.758937051159, -122.400966701986)</td>\n",
       "      <td>180021641-T07</td>\n",
       "    </tr>\n",
       "    <tr>\n",
       "      <th>2</th>\n",
       "      <td>180030264.0</td>\n",
       "      <td>87</td>\n",
       "      <td>18000955</td>\n",
       "      <td>Medical Incident</td>\n",
       "      <td>1/3/2018</td>\n",
       "      <td>1/2/2018</td>\n",
       "      <td>1/3/2018 2:34</td>\n",
       "      <td>1/3/2018 2:35</td>\n",
       "      <td>1/3/2018 2:37</td>\n",
       "      <td>1/3/2018 2:37</td>\n",
       "      <td>1/3/2018 2:42</td>\n",
       "      <td>1/3/2018 2:57</td>\n",
       "      <td>1/3/2018 3:02</td>\n",
       "      <td>Code 2 Transport</td>\n",
       "      <td>1/3/2018 3:50</td>\n",
       "      <td>200 Block of WOODSIDE AVE</td>\n",
       "      <td>San Francisco</td>\n",
       "      <td>94131</td>\n",
       "      <td>B08</td>\n",
       "      <td>39</td>\n",
       "      <td>8645</td>\n",
       "      <td>3</td>\n",
       "      <td>3</td>\n",
       "      <td>3.0</td>\n",
       "      <td>True</td>\n",
       "      <td>Potentially Life-Threatening</td>\n",
       "      <td>1.0</td>\n",
       "      <td>MEDIC</td>\n",
       "      <td>1.0</td>\n",
       "      <td>8</td>\n",
       "      <td>7</td>\n",
       "      <td>Twin Peaks</td>\n",
       "      <td>(37.745956295386, -122.454239907613)</td>\n",
       "      <td>180030264-87</td>\n",
       "    </tr>\n",
       "    <tr>\n",
       "      <th>3</th>\n",
       "      <td>180030369.0</td>\n",
       "      <td>60</td>\n",
       "      <td>18000972</td>\n",
       "      <td>Medical Incident</td>\n",
       "      <td>1/3/2018</td>\n",
       "      <td>1/2/2018</td>\n",
       "      <td>1/3/2018 4:15</td>\n",
       "      <td>1/3/2018 4:17</td>\n",
       "      <td>1/3/2018 4:19</td>\n",
       "      <td>1/3/2018 4:19</td>\n",
       "      <td>1/3/2018 4:29</td>\n",
       "      <td>1/3/2018 4:36</td>\n",
       "      <td>1/3/2018 4:58</td>\n",
       "      <td>Code 2 Transport</td>\n",
       "      <td>1/3/2018 5:30</td>\n",
       "      <td>100 Block of CORA ST</td>\n",
       "      <td>San Francisco</td>\n",
       "      <td>94134</td>\n",
       "      <td>B09</td>\n",
       "      <td>44</td>\n",
       "      <td>6253</td>\n",
       "      <td>2</td>\n",
       "      <td>2</td>\n",
       "      <td>2.0</td>\n",
       "      <td>True</td>\n",
       "      <td>Non Life-threatening</td>\n",
       "      <td>1.0</td>\n",
       "      <td>MEDIC</td>\n",
       "      <td>1.0</td>\n",
       "      <td>9</td>\n",
       "      <td>10</td>\n",
       "      <td>Visitacion Valley</td>\n",
       "      <td>(37.710878454701, -122.409122191393)</td>\n",
       "      <td>180030369-60</td>\n",
       "    </tr>\n",
       "    <tr>\n",
       "      <th>4</th>\n",
       "      <td>180030299.0</td>\n",
       "      <td>79</td>\n",
       "      <td>18000960</td>\n",
       "      <td>Medical Incident</td>\n",
       "      <td>1/3/2018</td>\n",
       "      <td>1/2/2018</td>\n",
       "      <td>1/3/2018 3:06</td>\n",
       "      <td>1/3/2018 3:06</td>\n",
       "      <td>1/3/2018 3:07</td>\n",
       "      <td>1/3/2018 3:07</td>\n",
       "      <td>1/3/2018 3:11</td>\n",
       "      <td>1/3/2018 3:23</td>\n",
       "      <td>1/3/2018 3:35</td>\n",
       "      <td>Code 2 Transport</td>\n",
       "      <td>1/3/2018 4:16</td>\n",
       "      <td>600 Block of TAYLOR ST</td>\n",
       "      <td>San Francisco</td>\n",
       "      <td>94109</td>\n",
       "      <td>B01</td>\n",
       "      <td>3</td>\n",
       "      <td>1451</td>\n",
       "      <td>C</td>\n",
       "      <td>3</td>\n",
       "      <td>3.0</td>\n",
       "      <td>True</td>\n",
       "      <td>Potentially Life-Threatening</td>\n",
       "      <td>1.0</td>\n",
       "      <td>MEDIC</td>\n",
       "      <td>1.0</td>\n",
       "      <td>1</td>\n",
       "      <td>3</td>\n",
       "      <td>Nob Hill</td>\n",
       "      <td>(37.788315869512, -122.41185546654)</td>\n",
       "      <td>180030299-79</td>\n",
       "    </tr>\n",
       "  </tbody>\n",
       "</table>\n",
       "</div>"
      ],
      "text/plain": [
       "   Call Number Unit ID Incident Number         Call Type Call Date Watch Date  \\\n",
       "0  180014109.0     T10        18000491            Alarms  1/1/2018   1/1/2018   \n",
       "1  180021641.0     T07        18000676            Alarms  1/2/2018   1/2/2018   \n",
       "2  180030264.0      87        18000955  Medical Incident  1/3/2018   1/2/2018   \n",
       "3  180030369.0      60        18000972  Medical Incident  1/3/2018   1/2/2018   \n",
       "4  180030299.0      79        18000960  Medical Incident  1/3/2018   1/2/2018   \n",
       "\n",
       "    Received DtTm      Entry DtTm   Dispatch DtTm   Response DtTm  \\\n",
       "0  1/1/2018 23:00  1/1/2018 23:02  1/1/2018 23:03  1/1/2018 23:04   \n",
       "1  1/2/2018 12:01  1/2/2018 12:03  1/2/2018 12:03             NaN   \n",
       "2   1/3/2018 2:34   1/3/2018 2:35   1/3/2018 2:37   1/3/2018 2:37   \n",
       "3   1/3/2018 4:15   1/3/2018 4:17   1/3/2018 4:19   1/3/2018 4:19   \n",
       "4   1/3/2018 3:06   1/3/2018 3:06   1/3/2018 3:07   1/3/2018 3:07   \n",
       "\n",
       "   On Scene DtTm Transport DtTm  Hospital DtTm Call Final Disposition  \\\n",
       "0            NaN            NaN            NaN                   Fire   \n",
       "1            NaN            NaN            NaN                   Fire   \n",
       "2  1/3/2018 2:42  1/3/2018 2:57  1/3/2018 3:02       Code 2 Transport   \n",
       "3  1/3/2018 4:29  1/3/2018 4:36  1/3/2018 4:58       Code 2 Transport   \n",
       "4  1/3/2018 3:11  1/3/2018 3:23  1/3/2018 3:35       Code 2 Transport   \n",
       "\n",
       "   Available DtTm                    Address           City  \\\n",
       "0  1/1/2018 23:20    1000 Block of GIRARD RD       Presidio   \n",
       "1  1/2/2018 12:07    900 Block of DE HARO ST  San Francisco   \n",
       "2   1/3/2018 3:50  200 Block of WOODSIDE AVE  San Francisco   \n",
       "3   1/3/2018 5:30       100 Block of CORA ST  San Francisco   \n",
       "4   1/3/2018 4:16     600 Block of TAYLOR ST  San Francisco   \n",
       "\n",
       "  Zipcode of Incident Battalion Station Area   Box Original Priority Priority  \\\n",
       "0               94129       B99           51  4612                 3        3   \n",
       "1               94107       B10           37  2511                 3        3   \n",
       "2               94131       B08           39  8645                 3        3   \n",
       "3               94134       B09           44  6253                 2        2   \n",
       "4               94109       B01            3  1451                 C        3   \n",
       "\n",
       "   Final Priority  ALS Unit               Call Type Group  Number of Alarms  \\\n",
       "0             3.0     False                         Alarm               1.0   \n",
       "1             3.0     False                         Alarm               1.0   \n",
       "2             3.0      True  Potentially Life-Threatening               1.0   \n",
       "3             2.0      True          Non Life-threatening               1.0   \n",
       "4             3.0      True  Potentially Life-Threatening               1.0   \n",
       "\n",
       "  Unit Type  Unit sequence in call dispatch Fire Prevention District  \\\n",
       "0     TRUCK                             3.0                        7   \n",
       "1     TRUCK                             3.0                       10   \n",
       "2     MEDIC                             1.0                        8   \n",
       "3     MEDIC                             1.0                        9   \n",
       "4     MEDIC                             1.0                        1   \n",
       "\n",
       "  Supervisor District Neighborhooods - Analysis Boundaries  \\\n",
       "0                   2                             Presidio   \n",
       "1                  10                         Potrero Hill   \n",
       "2                   7                           Twin Peaks   \n",
       "3                  10                    Visitacion Valley   \n",
       "4                   3                             Nob Hill   \n",
       "\n",
       "                               Location          RowID  \n",
       "0  (37.801325129454, -122.453498244358)  180014109-T10  \n",
       "1  (37.758937051159, -122.400966701986)  180021641-T07  \n",
       "2  (37.745956295386, -122.454239907613)   180030264-87  \n",
       "3  (37.710878454701, -122.409122191393)   180030369-60  \n",
       "4   (37.788315869512, -122.41185546654)   180030299-79  "
      ]
     },
     "execution_count": 4,
     "metadata": {},
     "output_type": "execute_result"
    }
   ],
   "source": [
    "print(fire_df.shape)\n",
    "fire_df.head()"
   ]
  },
  {
   "cell_type": "code",
   "execution_count": 5,
   "metadata": {},
   "outputs": [
    {
     "data": {
      "text/plain": [
       "Code 2 Transport              140603\n",
       "Fire                           71984\n",
       "Patient Declined Transport     15575\n",
       "No Merit                       14383\n",
       "Code 3 Transport               13345\n",
       "Cancelled                       6596\n",
       "Against Medical Advice          5740\n",
       "Unable to Locate                5182\n",
       "Medical Examiner                3361\n",
       "Other                           3104\n",
       "SFPD                            1717\n",
       "Gone on Arrival                 1284\n",
       "CHP                               91\n",
       "Duplicate                         70\n",
       "Multi-casualty Incident           32\n",
       "Name: Call Final Disposition, dtype: int64"
      ]
     },
     "execution_count": 5,
     "metadata": {},
     "output_type": "execute_result"
    }
   ],
   "source": [
    "#Target value_count\n",
    "\n",
    "fire_df[\"Call Final Disposition\"].value_counts().sort_values(ascending=False)"
   ]
  },
  {
   "cell_type": "code",
   "execution_count": 6,
   "metadata": {},
   "outputs": [],
   "source": [
    "#Categorizing/Binarizing the target\n",
    "\n",
    "fire_df[\"Target\"]=np.where((fire_df[\"Call Final Disposition\"]==\"No Merit\") | (fire_df[\"Call Final Disposition\"]==\"Cancelled\") | (fire_df[\"Call Final Disposition\"]==\"Unable to Locate\"),1,0)\n",
    "\n",
    "fire_df=fire_df.drop(\"Call Final Disposition\",axis=1)"
   ]
  },
  {
   "cell_type": "code",
   "execution_count": 7,
   "metadata": {},
   "outputs": [
    {
     "name": "stdout",
     "output_type": "stream",
     "text": [
      "<class 'pandas.core.frame.DataFrame'>\n",
      "RangeIndex: 283067 entries, 0 to 283066\n",
      "Data columns (total 34 columns):\n",
      "Call Number                             283067 non-null float64\n",
      "Unit ID                                 283067 non-null object\n",
      "Incident Number                         283067 non-null object\n",
      "Call Type                               283067 non-null object\n",
      "Call Date                               283067 non-null object\n",
      "Watch Date                              283067 non-null object\n",
      "Received DtTm                           283067 non-null object\n",
      "Entry DtTm                              283067 non-null object\n",
      "Dispatch DtTm                           283067 non-null object\n",
      "Response DtTm                           275735 non-null object\n",
      "On Scene DtTm                           228986 non-null object\n",
      "Transport DtTm                          82074 non-null object\n",
      "Hospital DtTm                           80883 non-null object\n",
      "Available DtTm                          283023 non-null object\n",
      "Address                                 283067 non-null object\n",
      "City                                    282518 non-null object\n",
      "Zipcode of Incident                     282859 non-null object\n",
      "Battalion                               283067 non-null object\n",
      "Station Area                            283051 non-null object\n",
      "Box                                     283051 non-null object\n",
      "Original Priority                       283066 non-null object\n",
      "Priority                                283067 non-null object\n",
      "Final Priority                          283067 non-null float64\n",
      "ALS Unit                                283067 non-null bool\n",
      "Call Type Group                         282914 non-null object\n",
      "Number of Alarms                        283067 non-null float64\n",
      "Unit Type                               283067 non-null object\n",
      "Unit sequence in call dispatch          283067 non-null float64\n",
      "Fire Prevention District                283067 non-null object\n",
      "Supervisor District                     283067 non-null object\n",
      "Neighborhooods - Analysis Boundaries    283067 non-null object\n",
      "Location                                283067 non-null object\n",
      "RowID                                   283067 non-null object\n",
      "Target                                  283067 non-null int32\n",
      "dtypes: bool(1), float64(4), int32(1), object(28)\n",
      "memory usage: 70.5+ MB\n"
     ]
    }
   ],
   "source": [
    "fire_df.info()"
   ]
  },
  {
   "cell_type": "markdown",
   "metadata": {},
   "source": [
    "## 2. Data Cleaning and Feature Engineering"
   ]
  },
  {
   "cell_type": "markdown",
   "metadata": {},
   "source": [
    "### 2A. Handling Missing Values"
   ]
  },
  {
   "cell_type": "code",
   "execution_count": 8,
   "metadata": {},
   "outputs": [
    {
     "data": {
      "text/html": [
       "<div>\n",
       "<style scoped>\n",
       "    .dataframe tbody tr th:only-of-type {\n",
       "        vertical-align: middle;\n",
       "    }\n",
       "\n",
       "    .dataframe tbody tr th {\n",
       "        vertical-align: top;\n",
       "    }\n",
       "\n",
       "    .dataframe thead th {\n",
       "        text-align: right;\n",
       "    }\n",
       "</style>\n",
       "<table border=\"1\" class=\"dataframe\">\n",
       "  <thead>\n",
       "    <tr style=\"text-align: right;\">\n",
       "      <th></th>\n",
       "      <th>Missing_Values</th>\n",
       "      <th>Percentage_of_Column_Missing</th>\n",
       "    </tr>\n",
       "  </thead>\n",
       "  <tbody>\n",
       "    <tr>\n",
       "      <th>Hospital DtTm</th>\n",
       "      <td>202184</td>\n",
       "      <td>0.714262</td>\n",
       "    </tr>\n",
       "    <tr>\n",
       "      <th>Transport DtTm</th>\n",
       "      <td>200993</td>\n",
       "      <td>0.710055</td>\n",
       "    </tr>\n",
       "    <tr>\n",
       "      <th>On Scene DtTm</th>\n",
       "      <td>54081</td>\n",
       "      <td>0.191054</td>\n",
       "    </tr>\n",
       "    <tr>\n",
       "      <th>Response DtTm</th>\n",
       "      <td>7332</td>\n",
       "      <td>0.025902</td>\n",
       "    </tr>\n",
       "    <tr>\n",
       "      <th>City</th>\n",
       "      <td>549</td>\n",
       "      <td>0.001939</td>\n",
       "    </tr>\n",
       "    <tr>\n",
       "      <th>Zipcode of Incident</th>\n",
       "      <td>208</td>\n",
       "      <td>0.000735</td>\n",
       "    </tr>\n",
       "    <tr>\n",
       "      <th>Call Type Group</th>\n",
       "      <td>153</td>\n",
       "      <td>0.000541</td>\n",
       "    </tr>\n",
       "    <tr>\n",
       "      <th>Available DtTm</th>\n",
       "      <td>44</td>\n",
       "      <td>0.000155</td>\n",
       "    </tr>\n",
       "    <tr>\n",
       "      <th>Station Area</th>\n",
       "      <td>16</td>\n",
       "      <td>0.000057</td>\n",
       "    </tr>\n",
       "    <tr>\n",
       "      <th>Box</th>\n",
       "      <td>16</td>\n",
       "      <td>0.000057</td>\n",
       "    </tr>\n",
       "    <tr>\n",
       "      <th>Original Priority</th>\n",
       "      <td>1</td>\n",
       "      <td>0.000004</td>\n",
       "    </tr>\n",
       "  </tbody>\n",
       "</table>\n",
       "</div>"
      ],
      "text/plain": [
       "                     Missing_Values  Percentage_of_Column_Missing\n",
       "Hospital DtTm                202184                      0.714262\n",
       "Transport DtTm               200993                      0.710055\n",
       "On Scene DtTm                 54081                      0.191054\n",
       "Response DtTm                  7332                      0.025902\n",
       "City                            549                      0.001939\n",
       "Zipcode of Incident             208                      0.000735\n",
       "Call Type Group                 153                      0.000541\n",
       "Available DtTm                   44                      0.000155\n",
       "Station Area                     16                      0.000057\n",
       "Box                              16                      0.000057\n",
       "Original Priority                 1                      0.000004"
      ]
     },
     "execution_count": 8,
     "metadata": {},
     "output_type": "execute_result"
    }
   ],
   "source": [
    "# Summary of Missing Values\n",
    "\n",
    "def Missing_Values(df):\n",
    "    Missing_Summary=df.isnull().sum().to_frame()\n",
    "    Missing_Summary=Missing_Summary.rename(columns={0:\"Missing_Values\"})\n",
    "    Missing_Summary[\"Percentage_of_Column_Missing\"]=Missing_Summary[\"Missing_Values\"]/len(df)\n",
    "    Missing_Summary=Missing_Summary[Missing_Summary[\"Missing_Values\"]>0].sort_values(\"Percentage_of_Column_Missing\",ascending=False)\n",
    "    return Missing_Summary\n",
    "\n",
    "Missing_Values(fire_df)"
   ]
  },
  {
   "cell_type": "code",
   "execution_count": 9,
   "metadata": {},
   "outputs": [],
   "source": [
    "#What to do with missing values? Imputate, Drop rows, columns based on arbitrary thresholds\n",
    "\n",
    "\n",
    "Dropna_Threshold=.05             #Droppping rows where Percentage of Column that's missing is Less the threshold amount \n",
    "Drop_column_Threshold=.70         #Droppping columns where Percentage of Column that's missing is over the threshold amount\n",
    "#Imputation_Threshold             #Imputation-->based on above Missing_Values Summary table, \"On-Scene DtTm\" is the only feature whose missing values would need to be filled-in     \n",
    "\n",
    "for col in fire_df.columns: \n",
    "    Null_Percentage=fire_df[col].isnull().sum()/len(fire_df)\n",
    "    \n",
    "    Imputation_Threshold=Dropna_Threshold <= Null_Percentage <= Drop_column_Threshold\n",
    "    \n",
    "    if Imputation_Threshold:\n",
    "        fire_df[col].fillna(value=fire_df[\"Response DtTm\"],inplace=True)\n",
    "    \n",
    "    elif Null_Percentage < Dropna_Threshold:\n",
    "        fire_df.dropna(subset=[col],inplace=True,axis=0) \n",
    "    \n",
    "    elif Null_Percentage > Drop_column_Threshold:\n",
    "        fire_df=fire_df.drop(col,axis=1) \n",
    "        "
   ]
  },
  {
   "cell_type": "code",
   "execution_count": 10,
   "metadata": {},
   "outputs": [
    {
     "data": {
      "text/html": [
       "<div>\n",
       "<style scoped>\n",
       "    .dataframe tbody tr th:only-of-type {\n",
       "        vertical-align: middle;\n",
       "    }\n",
       "\n",
       "    .dataframe tbody tr th {\n",
       "        vertical-align: top;\n",
       "    }\n",
       "\n",
       "    .dataframe thead th {\n",
       "        text-align: right;\n",
       "    }\n",
       "</style>\n",
       "<table border=\"1\" class=\"dataframe\">\n",
       "  <thead>\n",
       "    <tr style=\"text-align: right;\">\n",
       "      <th></th>\n",
       "      <th>Missing_Values</th>\n",
       "      <th>Percentage_of_Column_Missing</th>\n",
       "    </tr>\n",
       "  </thead>\n",
       "  <tbody>\n",
       "  </tbody>\n",
       "</table>\n",
       "</div>"
      ],
      "text/plain": [
       "Empty DataFrame\n",
       "Columns: [Missing_Values, Percentage_of_Column_Missing]\n",
       "Index: []"
      ]
     },
     "execution_count": 10,
     "metadata": {},
     "output_type": "execute_result"
    }
   ],
   "source": [
    "Missing_Values(fire_df)  #rechecking for missing data - non-confirmed"
   ]
  },
  {
   "cell_type": "markdown",
   "metadata": {},
   "source": [
    "### 2B. DEALING WITH DATA TYPES AND FEATURE ENGINEERING"
   ]
  },
  {
   "cell_type": "code",
   "execution_count": 11,
   "metadata": {},
   "outputs": [
    {
     "data": {
      "text/html": [
       "<div>\n",
       "<style scoped>\n",
       "    .dataframe tbody tr th:only-of-type {\n",
       "        vertical-align: middle;\n",
       "    }\n",
       "\n",
       "    .dataframe tbody tr th {\n",
       "        vertical-align: top;\n",
       "    }\n",
       "\n",
       "    .dataframe thead th {\n",
       "        text-align: right;\n",
       "    }\n",
       "</style>\n",
       "<table border=\"1\" class=\"dataframe\">\n",
       "  <thead>\n",
       "    <tr style=\"text-align: right;\">\n",
       "      <th></th>\n",
       "      <th>Call Type</th>\n",
       "      <th>Received DtTm</th>\n",
       "      <th>Station Area</th>\n",
       "      <th>Original Priority</th>\n",
       "      <th>ALS Unit</th>\n",
       "      <th>Call Type Group</th>\n",
       "      <th>Number of Alarms</th>\n",
       "      <th>Unit sequence in call dispatch</th>\n",
       "      <th>Fire Prevention District</th>\n",
       "      <th>Supervisor District</th>\n",
       "      <th>Location</th>\n",
       "      <th>Target</th>\n",
       "    </tr>\n",
       "  </thead>\n",
       "  <tbody>\n",
       "    <tr>\n",
       "      <th>0</th>\n",
       "      <td>Alarms</td>\n",
       "      <td>1/1/2018 23:00</td>\n",
       "      <td>51</td>\n",
       "      <td>3</td>\n",
       "      <td>False</td>\n",
       "      <td>Alarm</td>\n",
       "      <td>1.0</td>\n",
       "      <td>3.0</td>\n",
       "      <td>7</td>\n",
       "      <td>2</td>\n",
       "      <td>(37.801325129454, -122.453498244358)</td>\n",
       "      <td>0</td>\n",
       "    </tr>\n",
       "    <tr>\n",
       "      <th>2</th>\n",
       "      <td>Medical Incident</td>\n",
       "      <td>1/3/2018 2:34</td>\n",
       "      <td>39</td>\n",
       "      <td>3</td>\n",
       "      <td>True</td>\n",
       "      <td>Potentially Life-Threatening</td>\n",
       "      <td>1.0</td>\n",
       "      <td>1.0</td>\n",
       "      <td>8</td>\n",
       "      <td>7</td>\n",
       "      <td>(37.745956295386, -122.454239907613)</td>\n",
       "      <td>0</td>\n",
       "    </tr>\n",
       "    <tr>\n",
       "      <th>3</th>\n",
       "      <td>Medical Incident</td>\n",
       "      <td>1/3/2018 4:15</td>\n",
       "      <td>44</td>\n",
       "      <td>2</td>\n",
       "      <td>True</td>\n",
       "      <td>Non Life-threatening</td>\n",
       "      <td>1.0</td>\n",
       "      <td>1.0</td>\n",
       "      <td>9</td>\n",
       "      <td>10</td>\n",
       "      <td>(37.710878454701, -122.409122191393)</td>\n",
       "      <td>0</td>\n",
       "    </tr>\n",
       "    <tr>\n",
       "      <th>4</th>\n",
       "      <td>Medical Incident</td>\n",
       "      <td>1/3/2018 3:06</td>\n",
       "      <td>3</td>\n",
       "      <td>C</td>\n",
       "      <td>True</td>\n",
       "      <td>Potentially Life-Threatening</td>\n",
       "      <td>1.0</td>\n",
       "      <td>1.0</td>\n",
       "      <td>1</td>\n",
       "      <td>3</td>\n",
       "      <td>(37.788315869512, -122.41185546654)</td>\n",
       "      <td>0</td>\n",
       "    </tr>\n",
       "    <tr>\n",
       "      <th>5</th>\n",
       "      <td>Medical Incident</td>\n",
       "      <td>1/3/2018 2:15</td>\n",
       "      <td>17</td>\n",
       "      <td>3</td>\n",
       "      <td>True</td>\n",
       "      <td>Non Life-threatening</td>\n",
       "      <td>1.0</td>\n",
       "      <td>2.0</td>\n",
       "      <td>10</td>\n",
       "      <td>10</td>\n",
       "      <td>(37.729301772384, -122.390876776583)</td>\n",
       "      <td>0</td>\n",
       "    </tr>\n",
       "  </tbody>\n",
       "</table>\n",
       "</div>"
      ],
      "text/plain": [
       "          Call Type   Received DtTm Station Area Original Priority  ALS Unit  \\\n",
       "0            Alarms  1/1/2018 23:00           51                 3     False   \n",
       "2  Medical Incident   1/3/2018 2:34           39                 3      True   \n",
       "3  Medical Incident   1/3/2018 4:15           44                 2      True   \n",
       "4  Medical Incident   1/3/2018 3:06            3                 C      True   \n",
       "5  Medical Incident   1/3/2018 2:15           17                 3      True   \n",
       "\n",
       "                Call Type Group  Number of Alarms  \\\n",
       "0                         Alarm               1.0   \n",
       "2  Potentially Life-Threatening               1.0   \n",
       "3          Non Life-threatening               1.0   \n",
       "4  Potentially Life-Threatening               1.0   \n",
       "5          Non Life-threatening               1.0   \n",
       "\n",
       "   Unit sequence in call dispatch Fire Prevention District  \\\n",
       "0                             3.0                        7   \n",
       "2                             1.0                        8   \n",
       "3                             1.0                        9   \n",
       "4                             1.0                        1   \n",
       "5                             2.0                       10   \n",
       "\n",
       "  Supervisor District                              Location  Target  \n",
       "0                   2  (37.801325129454, -122.453498244358)       0  \n",
       "2                   7  (37.745956295386, -122.454239907613)       0  \n",
       "3                  10  (37.710878454701, -122.409122191393)       0  \n",
       "4                   3   (37.788315869512, -122.41185546654)       0  \n",
       "5                  10  (37.729301772384, -122.390876776583)       0  "
      ]
     },
     "execution_count": 11,
     "metadata": {},
     "output_type": "execute_result"
    }
   ],
   "source": [
    "# Based on \"domain\" knowledge, dropping columns that are not relevant to target\n",
    "\n",
    "dropped_features=[\"Unit ID\",\"Call Number\",\"Incident Number\",\"RowID\",\"Call Date\",\"Watch Date\",\"Entry DtTm\",\"Dispatch DtTm\",\"Response DtTm\",\"On Scene DtTm\",\"Available DtTm\",\"Address\",'Neighborhooods - Analysis Boundaries',\"City\",\"Zipcode of Incident\",\"Battalion\",\"Priority\",\"Final Priority\",\"Box\",\"Unit Type\"]\n",
    "fire_df=fire_df.drop(dropped_features,axis=1)\n",
    "fire_df.head()"
   ]
  },
  {
   "cell_type": "markdown",
   "metadata": {},
   "source": [
    "**Basis for dropped features:** \n",
    "- **\"Unit ID\" , \"Call Number\" , \"Incident Number\" , \"RowID\"**\n",
    "    - internal records that served no purpose for prediction purposes\n",
    "- **\"Call Date\" , \"Watch Date\" , \"Entry DtTm\" , \"Dispatch DtTm\" , \"Response DtTm\" , \"On Scene DtTm\" , \"Available DtTm\"**\n",
    "    - for the purpose of this project, these timestamp features provide no additional value \n",
    "- **\"Address\" ,'Neighborhooods - Analysis Boundaries', \"City\" , \"Zipcode of Incident\"**\n",
    "    - In addition to above features, we also considered \"Location\" in determining which location feature would be most useful.In assessing which feature to keep, we dropped categorical features that contained either high cardinality (\"Street Addresses\") or were very general in nature (\"Neighborhooods - Analysis Boundaries\" , \"City\" , \"ZipCode\" ). As such, we felt \"Location\" would be most useful as we can split the coordinates and treat it as a continous feature. \n",
    "- **\"Battalion\" , \"Priority\" , \"Final Priority\" , \"Box\" , \"Unit Type\"**\n",
    "    - These features relate to action taken AFTER the call was received - as such, these features should not / can not be taken into account for the purpose of our objective\n",
    "    "
   ]
  },
  {
   "cell_type": "code",
   "execution_count": 12,
   "metadata": {},
   "outputs": [],
   "source": [
    "# converting coordinates to numerical\n",
    "\n",
    "Long_Lat=fire_df[\"Location\"].str.split(\",\",expand=True)\n",
    "Long=Long_Lat[0].str.strip(\"(\")\n",
    "fire_df[\"Longitude\"]=pd.to_numeric(Long)\n",
    "\n",
    "Lat=Long_Lat[1].str.strip(\")\")\n",
    "fire_df[\"Latitude\"]=pd.to_numeric(Lat)\n",
    "\n",
    "fire_df=fire_df.drop(\"Location\",axis=1)"
   ]
  },
  {
   "cell_type": "code",
   "execution_count": 13,
   "metadata": {},
   "outputs": [],
   "source": [
    "# converting string datatype to timestamp\n",
    "\n",
    "fire_df[\"Received DtTm\"]=fire_df[\"Received DtTm\"].astype('datetime64[ns]')\n",
    "\n",
    "fire_df[\"Day_of_Week\"]=fire_df[\"Received DtTm\"].dt.dayofweek\n",
    "fire_df[\"Hour_of_Day\"]=fire_df[\"Received DtTm\"].dt.hour\n",
    "fire_df[\"Month_of_Year\"]=fire_df[\"Received DtTm\"].dt.month\n",
    "\n",
    "fire_df=fire_df.drop(\"Received DtTm\",axis=1)"
   ]
  },
  {
   "cell_type": "code",
   "execution_count": 14,
   "metadata": {},
   "outputs": [],
   "source": [
    "# converting hours of day to time segments (midnight to 4am=Late Night,  4-8=morning  and etc)\n",
    "\n",
    "conditions=[fire_df[\"Month_of_Year\"].between(1,3),fire_df[\"Month_of_Year\"].between(3.01,6),fire_df[\"Month_of_Year\"].between(6.01,9),fire_df[\"Month_of_Year\"].between(9.01,12)]\n",
    "\n",
    "Result=[\"Winter\",\"Spring\",\"Summer\",\"Fall\"]\n",
    "\n",
    "fire_df[\"Seasons\"]=np.select(conditions,Result,default=\"Summer\")      \n",
    "\n",
    "fire_df=fire_df.drop(\"Month_of_Year\",axis=1)"
   ]
  },
  {
   "cell_type": "code",
   "execution_count": 15,
   "metadata": {},
   "outputs": [],
   "source": [
    "# converting months of year to seasons (Fall, Summer, Winter, Spring) \n",
    "\n",
    "conditions=[fire_df[\"Hour_of_Day\"].between(0,4),fire_df[\"Hour_of_Day\"].between(4.01,8),fire_df[\"Hour_of_Day\"].between(8.01,12),fire_df[\"Hour_of_Day\"].between(12.01,16),fire_df[\"Hour_of_Day\"].between(16.01,20),fire_df[\"Hour_of_Day\"].between(20.01,24)]\n",
    "\n",
    "Result=[\"Late_Night\",\"Morning\",\"Late_Morning\",\"Afternoon\",\"Evening\",\"NightTime\"]\n",
    "\n",
    "fire_df[\"Time_of_Day\"]=np.select(conditions,Result,default=\"Afternoon\")      \n",
    "\n",
    "fire_df=fire_df.drop(\"Hour_of_Day\",axis=1)"
   ]
  },
  {
   "cell_type": "code",
   "execution_count": 16,
   "metadata": {},
   "outputs": [
    {
     "data": {
      "text/html": [
       "<div>\n",
       "<style scoped>\n",
       "    .dataframe tbody tr th:only-of-type {\n",
       "        vertical-align: middle;\n",
       "    }\n",
       "\n",
       "    .dataframe tbody tr th {\n",
       "        vertical-align: top;\n",
       "    }\n",
       "\n",
       "    .dataframe thead th {\n",
       "        text-align: right;\n",
       "    }\n",
       "</style>\n",
       "<table border=\"1\" class=\"dataframe\">\n",
       "  <thead>\n",
       "    <tr style=\"text-align: right;\">\n",
       "      <th></th>\n",
       "      <th>Call Type</th>\n",
       "      <th>Station Area</th>\n",
       "      <th>Original Priority</th>\n",
       "      <th>ALS Unit</th>\n",
       "      <th>Call Type Group</th>\n",
       "      <th>Number of Alarms</th>\n",
       "      <th>Unit sequence in call dispatch</th>\n",
       "      <th>Fire Prevention District</th>\n",
       "      <th>Supervisor District</th>\n",
       "      <th>Target</th>\n",
       "      <th>Longitude</th>\n",
       "      <th>Latitude</th>\n",
       "      <th>Day_of_Week</th>\n",
       "      <th>Seasons</th>\n",
       "      <th>Time_of_Day</th>\n",
       "    </tr>\n",
       "  </thead>\n",
       "  <tbody>\n",
       "    <tr>\n",
       "      <th>0</th>\n",
       "      <td>Alarms</td>\n",
       "      <td>51</td>\n",
       "      <td>3</td>\n",
       "      <td>False</td>\n",
       "      <td>Alarm</td>\n",
       "      <td>1.0</td>\n",
       "      <td>3.0</td>\n",
       "      <td>7</td>\n",
       "      <td>2</td>\n",
       "      <td>0</td>\n",
       "      <td>37.801325</td>\n",
       "      <td>-122.453498</td>\n",
       "      <td>0</td>\n",
       "      <td>Winter</td>\n",
       "      <td>NightTime</td>\n",
       "    </tr>\n",
       "    <tr>\n",
       "      <th>2</th>\n",
       "      <td>Medical Incident</td>\n",
       "      <td>39</td>\n",
       "      <td>3</td>\n",
       "      <td>True</td>\n",
       "      <td>Potentially Life-Threatening</td>\n",
       "      <td>1.0</td>\n",
       "      <td>1.0</td>\n",
       "      <td>8</td>\n",
       "      <td>7</td>\n",
       "      <td>0</td>\n",
       "      <td>37.745956</td>\n",
       "      <td>-122.454240</td>\n",
       "      <td>2</td>\n",
       "      <td>Winter</td>\n",
       "      <td>Late_Night</td>\n",
       "    </tr>\n",
       "    <tr>\n",
       "      <th>3</th>\n",
       "      <td>Medical Incident</td>\n",
       "      <td>44</td>\n",
       "      <td>2</td>\n",
       "      <td>True</td>\n",
       "      <td>Non Life-threatening</td>\n",
       "      <td>1.0</td>\n",
       "      <td>1.0</td>\n",
       "      <td>9</td>\n",
       "      <td>10</td>\n",
       "      <td>0</td>\n",
       "      <td>37.710878</td>\n",
       "      <td>-122.409122</td>\n",
       "      <td>2</td>\n",
       "      <td>Winter</td>\n",
       "      <td>Late_Night</td>\n",
       "    </tr>\n",
       "    <tr>\n",
       "      <th>4</th>\n",
       "      <td>Medical Incident</td>\n",
       "      <td>3</td>\n",
       "      <td>C</td>\n",
       "      <td>True</td>\n",
       "      <td>Potentially Life-Threatening</td>\n",
       "      <td>1.0</td>\n",
       "      <td>1.0</td>\n",
       "      <td>1</td>\n",
       "      <td>3</td>\n",
       "      <td>0</td>\n",
       "      <td>37.788316</td>\n",
       "      <td>-122.411855</td>\n",
       "      <td>2</td>\n",
       "      <td>Winter</td>\n",
       "      <td>Late_Night</td>\n",
       "    </tr>\n",
       "    <tr>\n",
       "      <th>5</th>\n",
       "      <td>Medical Incident</td>\n",
       "      <td>17</td>\n",
       "      <td>3</td>\n",
       "      <td>True</td>\n",
       "      <td>Non Life-threatening</td>\n",
       "      <td>1.0</td>\n",
       "      <td>2.0</td>\n",
       "      <td>10</td>\n",
       "      <td>10</td>\n",
       "      <td>0</td>\n",
       "      <td>37.729302</td>\n",
       "      <td>-122.390877</td>\n",
       "      <td>2</td>\n",
       "      <td>Winter</td>\n",
       "      <td>Late_Night</td>\n",
       "    </tr>\n",
       "  </tbody>\n",
       "</table>\n",
       "</div>"
      ],
      "text/plain": [
       "          Call Type Station Area Original Priority  ALS Unit  \\\n",
       "0            Alarms           51                 3     False   \n",
       "2  Medical Incident           39                 3      True   \n",
       "3  Medical Incident           44                 2      True   \n",
       "4  Medical Incident            3                 C      True   \n",
       "5  Medical Incident           17                 3      True   \n",
       "\n",
       "                Call Type Group  Number of Alarms  \\\n",
       "0                         Alarm               1.0   \n",
       "2  Potentially Life-Threatening               1.0   \n",
       "3          Non Life-threatening               1.0   \n",
       "4  Potentially Life-Threatening               1.0   \n",
       "5          Non Life-threatening               1.0   \n",
       "\n",
       "   Unit sequence in call dispatch Fire Prevention District  \\\n",
       "0                             3.0                        7   \n",
       "2                             1.0                        8   \n",
       "3                             1.0                        9   \n",
       "4                             1.0                        1   \n",
       "5                             2.0                       10   \n",
       "\n",
       "  Supervisor District  Target  Longitude    Latitude  Day_of_Week Seasons  \\\n",
       "0                   2       0  37.801325 -122.453498            0  Winter   \n",
       "2                   7       0  37.745956 -122.454240            2  Winter   \n",
       "3                  10       0  37.710878 -122.409122            2  Winter   \n",
       "4                   3       0  37.788316 -122.411855            2  Winter   \n",
       "5                  10       0  37.729302 -122.390877            2  Winter   \n",
       "\n",
       "  Time_of_Day  \n",
       "0   NightTime  \n",
       "2  Late_Night  \n",
       "3  Late_Night  \n",
       "4  Late_Night  \n",
       "5  Late_Night  "
      ]
     },
     "execution_count": 16,
     "metadata": {},
     "output_type": "execute_result"
    }
   ],
   "source": [
    "fire_df.head()"
   ]
  },
  {
   "cell_type": "code",
   "execution_count": 17,
   "metadata": {},
   "outputs": [
    {
     "name": "stdout",
     "output_type": "stream",
     "text": [
      "Categorical Features\n",
      "['Call Type', 'Station Area', 'Original Priority', 'Call Type Group', 'Fire Prevention District', 'Supervisor District', 'Seasons', 'Time_of_Day', 'Number of Alarms', 'Unit sequence in call dispatch']\n",
      "***************************************************************************\n",
      "Numerical Features\n",
      "['Latitude', 'Target', 'Longitude']\n"
     ]
    }
   ],
   "source": [
    "# Bifurcating continous and categorical features (including numerical features that are categorical)\n",
    "\n",
    "\n",
    "\n",
    "categorical_columns=fire_df.select_dtypes(include=\"object\").columns.tolist()\n",
    "numerical_columns=fire_df.select_dtypes(include=[\"float64\",\"int\"]).columns.tolist()\n",
    "\n",
    "\n",
    "num_to_cat_columns=[\"Number of Alarms\",\"Unit sequence in call dispatch\"]  #numerical features that are actually categorical\n",
    "\n",
    "\n",
    "categorical_columns.extend(num_to_cat_columns)\n",
    "numerical_columns=list(set(numerical_columns).difference(set(num_to_cat_columns)))\n",
    "\n",
    "\n",
    "print(\"Categorical Features\")\n",
    "print(categorical_columns)\n",
    "print(\"*\"*75)\n",
    "print(\"Numerical Features\")\n",
    "print(numerical_columns)"
   ]
  },
  {
   "cell_type": "code",
   "execution_count": 18,
   "metadata": {},
   "outputs": [
    {
     "name": "stdout",
     "output_type": "stream",
     "text": [
      "**************************************************\n",
      "There are 27 unique values of feature \"Call Type\"\n",
      "**************************************************\n",
      "Medical Incident                                0.689682\n",
      "Alarms                                          0.114547\n",
      "Structure Fire                                  0.085613\n",
      "Traffic Collision                               0.043097\n",
      "Outside Fire                                    0.014713\n",
      "Citizen Assist / Service Call                   0.013410\n",
      "Other                                           0.013137\n",
      "Gas Leak (Natural and LP Gases)                 0.005581\n",
      "Water Rescue                                    0.004526\n",
      "Electrical Hazard                               0.003293\n",
      "Vehicle Fire                                    0.003249\n",
      "Elevator / Escalator Rescue                     0.003041\n",
      "Smoke Investigation (Outside)                   0.002718\n",
      "Fuel Spill                                      0.000891\n",
      "Odor (Strange / Unknown)                        0.000709\n",
      "HazMat                                          0.000415\n",
      "Train / Rail Incident                           0.000229\n",
      "Industrial Accidents                            0.000222\n",
      "Explosion                                       0.000200\n",
      "Extrication / Entrapped (Machinery, Vehicle)    0.000167\n",
      "Confined Space / Structure Collapse             0.000167\n",
      "Assist Police                                   0.000102\n",
      "Watercraft in Distress                          0.000095\n",
      "High Angle Rescue                               0.000091\n",
      "Marine Fire                                     0.000051\n",
      "Suspicious Package                              0.000036\n",
      "Mutual Aid / Assist Outside Agency              0.000018\n",
      "Name: Call Type, dtype: float64\n",
      "**************************************************\n",
      "**************************************************\n",
      "There are 45 unique values of feature \"Station Area\"\n",
      "**************************************************\n",
      "3     0.121004\n",
      "1     0.091794\n",
      "36    0.067346\n",
      "7     0.047365\n",
      "13    0.041737\n",
      "6     0.040220\n",
      "17    0.029134\n",
      "5     0.028832\n",
      "28    0.027435\n",
      "35    0.025034\n",
      "8     0.024965\n",
      "41    0.023139\n",
      "11    0.022582\n",
      "38    0.021214\n",
      "21    0.021003\n",
      "43    0.020352\n",
      "2     0.020050\n",
      "10    0.020013\n",
      "16    0.019628\n",
      "15    0.017827\n",
      "31    0.017689\n",
      "19    0.016721\n",
      "32    0.016288\n",
      "44    0.015462\n",
      "42    0.015200\n",
      "33    0.014971\n",
      "29    0.014083\n",
      "22    0.013232\n",
      "12    0.012501\n",
      "14    0.012286\n",
      "18    0.011788\n",
      "9     0.011216\n",
      "34    0.011129\n",
      "25    0.011125\n",
      "23    0.010773\n",
      "40    0.010565\n",
      "39    0.009405\n",
      "37    0.008597\n",
      "4     0.006865\n",
      "51    0.006589\n",
      "48    0.006436\n",
      "26    0.006367\n",
      "24    0.006163\n",
      "20    0.003875\n",
      "E2    0.000004\n",
      "Name: Station Area, dtype: float64\n",
      "**************************************************\n",
      "**************************************************\n",
      "There are 8 unique values of feature \"Original Priority\"\n",
      "**************************************************\n",
      "3    0.597517\n",
      "2    0.218688\n",
      "A    0.077845\n",
      "B    0.045520\n",
      "E    0.029553\n",
      "C    0.026464\n",
      "I    0.004358\n",
      "1    0.000055\n",
      "Name: Original Priority, dtype: float64\n",
      "**************************************************\n",
      "**************************************************\n",
      "There are 4 unique values of feature \"Call Type Group\"\n",
      "**************************************************\n",
      "Potentially Life-Threatening    0.475643\n",
      "Non Life-threatening            0.258984\n",
      "Alarm                           0.232844\n",
      "Fire                            0.032529\n",
      "Name: Call Type Group, dtype: float64\n",
      "**************************************************\n",
      "**************************************************\n",
      "There are 11 unique values of feature \"Fire Prevention District\"\n",
      "**************************************************\n",
      "2       0.210433\n",
      "3       0.157750\n",
      "1       0.112087\n",
      "4       0.092045\n",
      "10      0.078493\n",
      "9       0.075932\n",
      "6       0.071515\n",
      "8       0.069081\n",
      "5       0.066771\n",
      "7       0.058105\n",
      "None    0.007789\n",
      "Name: Fire Prevention District, dtype: float64\n",
      "**************************************************\n",
      "**************************************************\n",
      "There are 12 unique values of feature \"Supervisor District\"\n",
      "**************************************************\n",
      "6       0.302205\n",
      "3       0.129685\n",
      "5       0.092987\n",
      "10      0.088938\n",
      "9       0.081680\n",
      "8       0.068721\n",
      "2       0.064828\n",
      "7       0.050123\n",
      "1       0.045462\n",
      "11      0.041999\n",
      "4       0.033293\n",
      "None    0.000080\n",
      "Name: Supervisor District, dtype: float64\n",
      "**************************************************\n",
      "**************************************************\n",
      "There are 4 unique values of feature \"Seasons\"\n",
      "**************************************************\n",
      "Fall      0.278718\n",
      "Spring    0.275203\n",
      "Summer    0.268287\n",
      "Winter    0.177792\n",
      "Name: Seasons, dtype: float64\n",
      "**************************************************\n",
      "**************************************************\n",
      "There are 6 unique values of feature \"Time_of_Day\"\n",
      "**************************************************\n",
      "Afternoon       0.224611\n",
      "Evening         0.207734\n",
      "Late_Morning    0.206592\n",
      "Late_Night      0.125377\n",
      "NightTime       0.121306\n",
      "Morning         0.114379\n",
      "Name: Time_of_Day, dtype: float64\n",
      "**************************************************\n",
      "**************************************************\n",
      "There are 4 unique values of feature \"Number of Alarms\"\n",
      "**************************************************\n",
      "1.0    0.998527\n",
      "2.0    0.000833\n",
      "3.0    0.000429\n",
      "4.0    0.000211\n",
      "Name: Number of Alarms, dtype: float64\n",
      "**************************************************\n",
      "**************************************************\n",
      "There are 58 unique values of feature \"Unit sequence in call dispatch\"\n",
      "**************************************************\n",
      "1.0     0.491261\n",
      "2.0     0.325861\n",
      "3.0     0.104196\n",
      "4.0     0.023899\n",
      "5.0     0.012763\n",
      "6.0     0.009197\n",
      "7.0     0.007367\n",
      "8.0     0.006512\n",
      "9.0     0.006188\n",
      "10.0    0.005781\n",
      "11.0    0.002699\n",
      "12.0    0.001521\n",
      "13.0    0.000891\n",
      "14.0    0.000473\n",
      "15.0    0.000262\n",
      "16.0    0.000171\n",
      "17.0    0.000120\n",
      "18.0    0.000098\n",
      "19.0    0.000080\n",
      "20.0    0.000076\n",
      "21.0    0.000069\n",
      "22.0    0.000055\n",
      "23.0    0.000051\n",
      "24.0    0.000040\n",
      "25.0    0.000040\n",
      "26.0    0.000036\n",
      "27.0    0.000029\n",
      "28.0    0.000022\n",
      "29.0    0.000022\n",
      "30.0    0.000015\n",
      "33.0    0.000015\n",
      "34.0    0.000015\n",
      "35.0    0.000015\n",
      "32.0    0.000015\n",
      "31.0    0.000015\n",
      "37.0    0.000011\n",
      "36.0    0.000011\n",
      "38.0    0.000011\n",
      "43.0    0.000007\n",
      "41.0    0.000007\n",
      "44.0    0.000007\n",
      "39.0    0.000007\n",
      "48.0    0.000007\n",
      "47.0    0.000007\n",
      "40.0    0.000007\n",
      "51.0    0.000004\n",
      "46.0    0.000004\n",
      "50.0    0.000004\n",
      "49.0    0.000004\n",
      "42.0    0.000004\n",
      "58.0    0.000004\n",
      "56.0    0.000004\n",
      "45.0    0.000004\n",
      "52.0    0.000004\n",
      "55.0    0.000004\n",
      "57.0    0.000004\n",
      "54.0    0.000004\n",
      "53.0    0.000004\n",
      "Name: Unit sequence in call dispatch, dtype: float64\n",
      "**************************************************\n"
     ]
    }
   ],
   "source": [
    "# printing number of unique values and value_count percentage for each categorical feature\n",
    "\n",
    "for each_column in categorical_columns:\n",
    "    print(\"*\"*50)\n",
    "    print(\"There are \" + str(fire_df[each_column].nunique()) +\" unique values of feature \" + '\"{}\"'.format(each_column))\n",
    "    print(\"*\"*50)\n",
    "    print(fire_df[each_column].value_counts()/len(fire_df))\n",
    "    print(\"*\"*50)\n",
    "\n",
    "    "
   ]
  },
  {
   "cell_type": "code",
   "execution_count": 19,
   "metadata": {},
   "outputs": [],
   "source": [
    "# Summarizing Call Type 27 unique values into 6 \"buckets\". KeepingTop 5 Call Types as they make up 95% of calls. Remaining 22 Call Types being bucketed into \"All other\".\n",
    "\n",
    "Top5_Call_Type=fire_df[\"Call Type\"].value_counts().index[:5]\n",
    "\n",
    "Call_Type=[]\n",
    "for value in fire_df[\"Call Type\"]: #.value_counts().index:\n",
    "    if value not in Top5_Call_Type:\n",
    "        Call_Type.append(\"All other < ~5%\")\n",
    "    else:\n",
    "        Call_Type.append(value)\n",
    "\n",
    "\n",
    "fire_df[\"Call Type\"]=Call_Type"
   ]
  },
  {
   "cell_type": "code",
   "execution_count": 20,
   "metadata": {},
   "outputs": [],
   "source": [
    "# Summarizing Station Area 45 unique values into 10 \"buckets\" making up top 55%.\n",
    "\n",
    "Top10_Station_Area=fire_df[\"Station Area\"].value_counts().index[:10]\n",
    "\n",
    "Station_Area=[]\n",
    "for value in fire_df[\"Station Area\"]: #.value_counts().index:\n",
    "    if value not in Top10_Station_Area:\n",
    "        Station_Area.append(\"All other\")\n",
    "    else:\n",
    "        Station_Area.append(value)\n",
    "\n",
    "\n",
    "fire_df[\"Station Area\"]=Station_Area"
   ]
  },
  {
   "cell_type": "code",
   "execution_count": 21,
   "metadata": {},
   "outputs": [],
   "source": [
    "# Summarizing \"Original Priority\" 8 unique values into 4 \"buckets\" making up top 95%.\n",
    "\n",
    "Top95_Original_Priority=fire_df[\"Original Priority\"].value_counts().index[:4]\n",
    "\n",
    "Original_Priority=[]\n",
    "for value in fire_df[\"Original Priority\"]: #.value_counts().index:\n",
    "    if value not in Top95_Original_Priority:\n",
    "        Original_Priority.append(\"All other\")\n",
    "    else:\n",
    "        Original_Priority.append(value)\n",
    "\n",
    "\n",
    "fire_df[\"Original Priority\"]=Original_Priority"
   ]
  },
  {
   "cell_type": "code",
   "execution_count": 22,
   "metadata": {},
   "outputs": [],
   "source": [
    "# Summarizing \"Number of Alarms\" 4 unique values into 2 \"buckets\" making up top 99%.\n",
    "\n",
    "fire_df[\"Number of Alarms\"]=fire_df[\"Number of Alarms\"].astype(str)\n",
    "\n",
    "Most_num_of_Alarms=fire_df[\"Number of Alarms\"].value_counts().index[0]\n",
    "\n",
    "Number_of_Alarms=[]\n",
    "for value in fire_df[\"Number of Alarms\"]: #.value_counts().index:\n",
    "    if value not in Most_num_of_Alarms:\n",
    "        Number_of_Alarms.append(\"All other\")\n",
    "    else:\n",
    "        Number_of_Alarms.append(value)\n",
    "\n",
    "\n",
    "fire_df[\"Number of Alarms\"]=Number_of_Alarms"
   ]
  },
  {
   "cell_type": "code",
   "execution_count": 23,
   "metadata": {},
   "outputs": [],
   "source": [
    "# Summarizing \"Unit sequence in call dispatch\" 58 unique values into 4 \"buckets\" making up top 90%.\n",
    "\n",
    "fire_df[\"Unit sequence in call dispatch\"]=fire_df[\"Unit sequence in call dispatch\"].astype(str)\n",
    "\n",
    "Call_Dispatch=fire_df[\"Unit sequence in call dispatch\"].value_counts().index[:3]\n",
    "\n",
    "Number_of_Dispatch=[]\n",
    "for value in fire_df[\"Unit sequence in call dispatch\"]: #.value_counts().index:\n",
    "    if value not in Call_Dispatch:\n",
    "        Number_of_Dispatch.append(\"All other\")\n",
    "    else:\n",
    "        Number_of_Dispatch.append(value)\n",
    "\n",
    "\n",
    "fire_df[\"Unit sequence in call dispatch\"]=Number_of_Dispatch"
   ]
  },
  {
   "cell_type": "code",
   "execution_count": 24,
   "metadata": {},
   "outputs": [
    {
     "name": "stdout",
     "output_type": "stream",
     "text": [
      "***************************************************************************\n",
      "There are 6 unique values of feature \"Call Type\"\n",
      "***************************************************************************\n",
      "There are 11 unique values of feature \"Station Area\"\n",
      "***************************************************************************\n",
      "There are 5 unique values of feature \"Original Priority\"\n",
      "***************************************************************************\n",
      "There are 4 unique values of feature \"Call Type Group\"\n",
      "***************************************************************************\n",
      "There are 11 unique values of feature \"Fire Prevention District\"\n",
      "***************************************************************************\n",
      "There are 12 unique values of feature \"Supervisor District\"\n",
      "***************************************************************************\n",
      "There are 4 unique values of feature \"Seasons\"\n",
      "***************************************************************************\n",
      "There are 6 unique values of feature \"Time_of_Day\"\n",
      "***************************************************************************\n",
      "There are 2 unique values of feature \"Number of Alarms\"\n",
      "***************************************************************************\n",
      "There are 4 unique values of feature \"Unit sequence in call dispatch\"\n"
     ]
    }
   ],
   "source": [
    "# printing number of unique values to ensure categorical features are not high cardinal.\n",
    "\n",
    "for each_column in categorical_columns:\n",
    "    print(\"*\"*75)\n",
    "    print(\"There are \" + str(fire_df[each_column].nunique()) +\" unique values of feature \" + '\"{}\"'.format(each_column))"
   ]
  },
  {
   "cell_type": "code",
   "execution_count": 25,
   "metadata": {},
   "outputs": [],
   "source": [
    "# #replacing input error in one of the categorical features\n",
    "# fire_df[\"Station Area\"]=fire_df[\"Station Area\"].str.replace(\"E2\",'2')\n",
    "\n",
    "# #Target encoding - Because \"Location\" has many unique values, we will use target encoding so it doesnt result in n additional dimensions\n",
    "# def Smooth_Mean(df,x,y,w):\n",
    "\n",
    "#     Target_Mean=df[y].mean()\n",
    "\n",
    "#     TE_count=df.groupby(x)[y].count()\n",
    "\n",
    "#     TE_mean=df.groupby(x)[y].mean()\n",
    "\n",
    "#     Smooth_mean = (TE_count * TE_mean + w * Target_Mean) / (TE_count + w)\n",
    "\n",
    "#     df[x]=df[x].map(Smooth_mean)\n",
    "    \n",
    "#     return df[x]\n",
    "\n",
    "\n",
    "# Weight=10\n",
    "\n",
    "# Smooth_Mean(df=fire_df,x=\"Station Area\",y=\"Target\",w=Weight).head()\n",
    "\n"
   ]
  },
  {
   "cell_type": "code",
   "execution_count": 26,
   "metadata": {},
   "outputs": [
    {
     "data": {
      "text/html": [
       "<div>\n",
       "<style scoped>\n",
       "    .dataframe tbody tr th:only-of-type {\n",
       "        vertical-align: middle;\n",
       "    }\n",
       "\n",
       "    .dataframe tbody tr th {\n",
       "        vertical-align: top;\n",
       "    }\n",
       "\n",
       "    .dataframe thead th {\n",
       "        text-align: right;\n",
       "    }\n",
       "</style>\n",
       "<table border=\"1\" class=\"dataframe\">\n",
       "  <thead>\n",
       "    <tr style=\"text-align: right;\">\n",
       "      <th></th>\n",
       "      <th>Call Type</th>\n",
       "      <th>Station Area</th>\n",
       "      <th>Original Priority</th>\n",
       "      <th>ALS Unit</th>\n",
       "      <th>Call Type Group</th>\n",
       "      <th>Number of Alarms</th>\n",
       "      <th>Unit sequence in call dispatch</th>\n",
       "      <th>Fire Prevention District</th>\n",
       "      <th>Supervisor District</th>\n",
       "      <th>Target</th>\n",
       "      <th>Longitude</th>\n",
       "      <th>Latitude</th>\n",
       "      <th>Day_of_Week</th>\n",
       "      <th>Seasons</th>\n",
       "      <th>Time_of_Day</th>\n",
       "    </tr>\n",
       "  </thead>\n",
       "  <tbody>\n",
       "    <tr>\n",
       "      <th>0</th>\n",
       "      <td>Alarms</td>\n",
       "      <td>All other</td>\n",
       "      <td>3</td>\n",
       "      <td>False</td>\n",
       "      <td>Alarm</td>\n",
       "      <td>1.0</td>\n",
       "      <td>3.0</td>\n",
       "      <td>7</td>\n",
       "      <td>2</td>\n",
       "      <td>0</td>\n",
       "      <td>37.801325</td>\n",
       "      <td>-122.453498</td>\n",
       "      <td>0</td>\n",
       "      <td>Winter</td>\n",
       "      <td>NightTime</td>\n",
       "    </tr>\n",
       "    <tr>\n",
       "      <th>2</th>\n",
       "      <td>Medical Incident</td>\n",
       "      <td>All other</td>\n",
       "      <td>3</td>\n",
       "      <td>True</td>\n",
       "      <td>Potentially Life-Threatening</td>\n",
       "      <td>1.0</td>\n",
       "      <td>1.0</td>\n",
       "      <td>8</td>\n",
       "      <td>7</td>\n",
       "      <td>0</td>\n",
       "      <td>37.745956</td>\n",
       "      <td>-122.454240</td>\n",
       "      <td>2</td>\n",
       "      <td>Winter</td>\n",
       "      <td>Late_Night</td>\n",
       "    </tr>\n",
       "    <tr>\n",
       "      <th>3</th>\n",
       "      <td>Medical Incident</td>\n",
       "      <td>All other</td>\n",
       "      <td>2</td>\n",
       "      <td>True</td>\n",
       "      <td>Non Life-threatening</td>\n",
       "      <td>1.0</td>\n",
       "      <td>1.0</td>\n",
       "      <td>9</td>\n",
       "      <td>10</td>\n",
       "      <td>0</td>\n",
       "      <td>37.710878</td>\n",
       "      <td>-122.409122</td>\n",
       "      <td>2</td>\n",
       "      <td>Winter</td>\n",
       "      <td>Late_Night</td>\n",
       "    </tr>\n",
       "    <tr>\n",
       "      <th>4</th>\n",
       "      <td>Medical Incident</td>\n",
       "      <td>3</td>\n",
       "      <td>All other</td>\n",
       "      <td>True</td>\n",
       "      <td>Potentially Life-Threatening</td>\n",
       "      <td>1.0</td>\n",
       "      <td>1.0</td>\n",
       "      <td>1</td>\n",
       "      <td>3</td>\n",
       "      <td>0</td>\n",
       "      <td>37.788316</td>\n",
       "      <td>-122.411855</td>\n",
       "      <td>2</td>\n",
       "      <td>Winter</td>\n",
       "      <td>Late_Night</td>\n",
       "    </tr>\n",
       "    <tr>\n",
       "      <th>5</th>\n",
       "      <td>Medical Incident</td>\n",
       "      <td>17</td>\n",
       "      <td>3</td>\n",
       "      <td>True</td>\n",
       "      <td>Non Life-threatening</td>\n",
       "      <td>1.0</td>\n",
       "      <td>2.0</td>\n",
       "      <td>10</td>\n",
       "      <td>10</td>\n",
       "      <td>0</td>\n",
       "      <td>37.729302</td>\n",
       "      <td>-122.390877</td>\n",
       "      <td>2</td>\n",
       "      <td>Winter</td>\n",
       "      <td>Late_Night</td>\n",
       "    </tr>\n",
       "  </tbody>\n",
       "</table>\n",
       "</div>"
      ],
      "text/plain": [
       "          Call Type Station Area Original Priority  ALS Unit  \\\n",
       "0            Alarms    All other                 3     False   \n",
       "2  Medical Incident    All other                 3      True   \n",
       "3  Medical Incident    All other                 2      True   \n",
       "4  Medical Incident            3         All other      True   \n",
       "5  Medical Incident           17                 3      True   \n",
       "\n",
       "                Call Type Group Number of Alarms  \\\n",
       "0                         Alarm              1.0   \n",
       "2  Potentially Life-Threatening              1.0   \n",
       "3          Non Life-threatening              1.0   \n",
       "4  Potentially Life-Threatening              1.0   \n",
       "5          Non Life-threatening              1.0   \n",
       "\n",
       "  Unit sequence in call dispatch Fire Prevention District Supervisor District  \\\n",
       "0                            3.0                        7                   2   \n",
       "2                            1.0                        8                   7   \n",
       "3                            1.0                        9                  10   \n",
       "4                            1.0                        1                   3   \n",
       "5                            2.0                       10                  10   \n",
       "\n",
       "   Target  Longitude    Latitude  Day_of_Week Seasons Time_of_Day  \n",
       "0       0  37.801325 -122.453498            0  Winter   NightTime  \n",
       "2       0  37.745956 -122.454240            2  Winter  Late_Night  \n",
       "3       0  37.710878 -122.409122            2  Winter  Late_Night  \n",
       "4       0  37.788316 -122.411855            2  Winter  Late_Night  \n",
       "5       0  37.729302 -122.390877            2  Winter  Late_Night  "
      ]
     },
     "execution_count": 26,
     "metadata": {},
     "output_type": "execute_result"
    }
   ],
   "source": [
    "fire_df_visuals=fire_df.copy()  #data frame used for data exploration\n",
    "fire_df.head()"
   ]
  },
  {
   "cell_type": "code",
   "execution_count": 27,
   "metadata": {},
   "outputs": [
    {
     "data": {
      "text/html": [
       "<div>\n",
       "<style scoped>\n",
       "    .dataframe tbody tr th:only-of-type {\n",
       "        vertical-align: middle;\n",
       "    }\n",
       "\n",
       "    .dataframe tbody tr th {\n",
       "        vertical-align: top;\n",
       "    }\n",
       "\n",
       "    .dataframe thead th {\n",
       "        text-align: right;\n",
       "    }\n",
       "</style>\n",
       "<table border=\"1\" class=\"dataframe\">\n",
       "  <thead>\n",
       "    <tr style=\"text-align: right;\">\n",
       "      <th></th>\n",
       "      <th>Target</th>\n",
       "      <th>Longitude</th>\n",
       "      <th>Latitude</th>\n",
       "      <th>Call Type_All other &lt; ~5%</th>\n",
       "      <th>Call Type_Medical Incident</th>\n",
       "      <th>Call Type_Outside Fire</th>\n",
       "      <th>Call Type_Structure Fire</th>\n",
       "      <th>Call Type_Traffic Collision</th>\n",
       "      <th>Station Area_13</th>\n",
       "      <th>Station Area_17</th>\n",
       "      <th>Station Area_28</th>\n",
       "      <th>Station Area_3</th>\n",
       "      <th>Station Area_35</th>\n",
       "      <th>Station Area_36</th>\n",
       "      <th>Station Area_5</th>\n",
       "      <th>Station Area_6</th>\n",
       "      <th>Station Area_7</th>\n",
       "      <th>Station Area_All other</th>\n",
       "      <th>Original Priority_3</th>\n",
       "      <th>Original Priority_A</th>\n",
       "      <th>Original Priority_All other</th>\n",
       "      <th>Original Priority_B</th>\n",
       "      <th>Call Type Group_Fire</th>\n",
       "      <th>Call Type Group_Non Life-threatening</th>\n",
       "      <th>Call Type Group_Potentially Life-Threatening</th>\n",
       "      <th>Number of Alarms_All other</th>\n",
       "      <th>Unit sequence in call dispatch_2.0</th>\n",
       "      <th>Unit sequence in call dispatch_3.0</th>\n",
       "      <th>Unit sequence in call dispatch_All other</th>\n",
       "      <th>Fire Prevention District_10</th>\n",
       "      <th>Fire Prevention District_2</th>\n",
       "      <th>Fire Prevention District_3</th>\n",
       "      <th>Fire Prevention District_4</th>\n",
       "      <th>Fire Prevention District_5</th>\n",
       "      <th>Fire Prevention District_6</th>\n",
       "      <th>Fire Prevention District_7</th>\n",
       "      <th>Fire Prevention District_8</th>\n",
       "      <th>Fire Prevention District_9</th>\n",
       "      <th>Fire Prevention District_None</th>\n",
       "      <th>Supervisor District_10</th>\n",
       "      <th>Supervisor District_11</th>\n",
       "      <th>Supervisor District_2</th>\n",
       "      <th>Supervisor District_3</th>\n",
       "      <th>Supervisor District_4</th>\n",
       "      <th>Supervisor District_5</th>\n",
       "      <th>Supervisor District_6</th>\n",
       "      <th>Supervisor District_7</th>\n",
       "      <th>Supervisor District_8</th>\n",
       "      <th>Supervisor District_9</th>\n",
       "      <th>Supervisor District_None</th>\n",
       "      <th>Seasons_Spring</th>\n",
       "      <th>Seasons_Summer</th>\n",
       "      <th>Seasons_Winter</th>\n",
       "      <th>Time_of_Day_Evening</th>\n",
       "      <th>Time_of_Day_Late_Morning</th>\n",
       "      <th>Time_of_Day_Late_Night</th>\n",
       "      <th>Time_of_Day_Morning</th>\n",
       "      <th>Time_of_Day_NightTime</th>\n",
       "      <th>ALS Unit_True</th>\n",
       "      <th>Day_of_Week_1</th>\n",
       "      <th>Day_of_Week_2</th>\n",
       "      <th>Day_of_Week_3</th>\n",
       "      <th>Day_of_Week_4</th>\n",
       "      <th>Day_of_Week_5</th>\n",
       "      <th>Day_of_Week_6</th>\n",
       "    </tr>\n",
       "  </thead>\n",
       "  <tbody>\n",
       "    <tr>\n",
       "      <th>0</th>\n",
       "      <td>0</td>\n",
       "      <td>37.801325</td>\n",
       "      <td>-122.453498</td>\n",
       "      <td>0</td>\n",
       "      <td>0</td>\n",
       "      <td>0</td>\n",
       "      <td>0</td>\n",
       "      <td>0</td>\n",
       "      <td>0</td>\n",
       "      <td>0</td>\n",
       "      <td>0</td>\n",
       "      <td>0</td>\n",
       "      <td>0</td>\n",
       "      <td>0</td>\n",
       "      <td>0</td>\n",
       "      <td>0</td>\n",
       "      <td>0</td>\n",
       "      <td>1</td>\n",
       "      <td>1</td>\n",
       "      <td>0</td>\n",
       "      <td>0</td>\n",
       "      <td>0</td>\n",
       "      <td>0</td>\n",
       "      <td>0</td>\n",
       "      <td>0</td>\n",
       "      <td>0</td>\n",
       "      <td>0</td>\n",
       "      <td>1</td>\n",
       "      <td>0</td>\n",
       "      <td>0</td>\n",
       "      <td>0</td>\n",
       "      <td>0</td>\n",
       "      <td>0</td>\n",
       "      <td>0</td>\n",
       "      <td>0</td>\n",
       "      <td>1</td>\n",
       "      <td>0</td>\n",
       "      <td>0</td>\n",
       "      <td>0</td>\n",
       "      <td>0</td>\n",
       "      <td>0</td>\n",
       "      <td>1</td>\n",
       "      <td>0</td>\n",
       "      <td>0</td>\n",
       "      <td>0</td>\n",
       "      <td>0</td>\n",
       "      <td>0</td>\n",
       "      <td>0</td>\n",
       "      <td>0</td>\n",
       "      <td>0</td>\n",
       "      <td>0</td>\n",
       "      <td>0</td>\n",
       "      <td>1</td>\n",
       "      <td>0</td>\n",
       "      <td>0</td>\n",
       "      <td>0</td>\n",
       "      <td>0</td>\n",
       "      <td>1</td>\n",
       "      <td>0</td>\n",
       "      <td>0</td>\n",
       "      <td>0</td>\n",
       "      <td>0</td>\n",
       "      <td>0</td>\n",
       "      <td>0</td>\n",
       "      <td>0</td>\n",
       "    </tr>\n",
       "    <tr>\n",
       "      <th>2</th>\n",
       "      <td>0</td>\n",
       "      <td>37.745956</td>\n",
       "      <td>-122.454240</td>\n",
       "      <td>0</td>\n",
       "      <td>1</td>\n",
       "      <td>0</td>\n",
       "      <td>0</td>\n",
       "      <td>0</td>\n",
       "      <td>0</td>\n",
       "      <td>0</td>\n",
       "      <td>0</td>\n",
       "      <td>0</td>\n",
       "      <td>0</td>\n",
       "      <td>0</td>\n",
       "      <td>0</td>\n",
       "      <td>0</td>\n",
       "      <td>0</td>\n",
       "      <td>1</td>\n",
       "      <td>1</td>\n",
       "      <td>0</td>\n",
       "      <td>0</td>\n",
       "      <td>0</td>\n",
       "      <td>0</td>\n",
       "      <td>0</td>\n",
       "      <td>1</td>\n",
       "      <td>0</td>\n",
       "      <td>0</td>\n",
       "      <td>0</td>\n",
       "      <td>0</td>\n",
       "      <td>0</td>\n",
       "      <td>0</td>\n",
       "      <td>0</td>\n",
       "      <td>0</td>\n",
       "      <td>0</td>\n",
       "      <td>0</td>\n",
       "      <td>0</td>\n",
       "      <td>1</td>\n",
       "      <td>0</td>\n",
       "      <td>0</td>\n",
       "      <td>0</td>\n",
       "      <td>0</td>\n",
       "      <td>0</td>\n",
       "      <td>0</td>\n",
       "      <td>0</td>\n",
       "      <td>0</td>\n",
       "      <td>0</td>\n",
       "      <td>1</td>\n",
       "      <td>0</td>\n",
       "      <td>0</td>\n",
       "      <td>0</td>\n",
       "      <td>0</td>\n",
       "      <td>0</td>\n",
       "      <td>1</td>\n",
       "      <td>0</td>\n",
       "      <td>0</td>\n",
       "      <td>1</td>\n",
       "      <td>0</td>\n",
       "      <td>0</td>\n",
       "      <td>1</td>\n",
       "      <td>0</td>\n",
       "      <td>1</td>\n",
       "      <td>0</td>\n",
       "      <td>0</td>\n",
       "      <td>0</td>\n",
       "      <td>0</td>\n",
       "    </tr>\n",
       "    <tr>\n",
       "      <th>3</th>\n",
       "      <td>0</td>\n",
       "      <td>37.710878</td>\n",
       "      <td>-122.409122</td>\n",
       "      <td>0</td>\n",
       "      <td>1</td>\n",
       "      <td>0</td>\n",
       "      <td>0</td>\n",
       "      <td>0</td>\n",
       "      <td>0</td>\n",
       "      <td>0</td>\n",
       "      <td>0</td>\n",
       "      <td>0</td>\n",
       "      <td>0</td>\n",
       "      <td>0</td>\n",
       "      <td>0</td>\n",
       "      <td>0</td>\n",
       "      <td>0</td>\n",
       "      <td>1</td>\n",
       "      <td>0</td>\n",
       "      <td>0</td>\n",
       "      <td>0</td>\n",
       "      <td>0</td>\n",
       "      <td>0</td>\n",
       "      <td>1</td>\n",
       "      <td>0</td>\n",
       "      <td>0</td>\n",
       "      <td>0</td>\n",
       "      <td>0</td>\n",
       "      <td>0</td>\n",
       "      <td>0</td>\n",
       "      <td>0</td>\n",
       "      <td>0</td>\n",
       "      <td>0</td>\n",
       "      <td>0</td>\n",
       "      <td>0</td>\n",
       "      <td>0</td>\n",
       "      <td>0</td>\n",
       "      <td>1</td>\n",
       "      <td>0</td>\n",
       "      <td>1</td>\n",
       "      <td>0</td>\n",
       "      <td>0</td>\n",
       "      <td>0</td>\n",
       "      <td>0</td>\n",
       "      <td>0</td>\n",
       "      <td>0</td>\n",
       "      <td>0</td>\n",
       "      <td>0</td>\n",
       "      <td>0</td>\n",
       "      <td>0</td>\n",
       "      <td>0</td>\n",
       "      <td>0</td>\n",
       "      <td>1</td>\n",
       "      <td>0</td>\n",
       "      <td>0</td>\n",
       "      <td>1</td>\n",
       "      <td>0</td>\n",
       "      <td>0</td>\n",
       "      <td>1</td>\n",
       "      <td>0</td>\n",
       "      <td>1</td>\n",
       "      <td>0</td>\n",
       "      <td>0</td>\n",
       "      <td>0</td>\n",
       "      <td>0</td>\n",
       "    </tr>\n",
       "    <tr>\n",
       "      <th>4</th>\n",
       "      <td>0</td>\n",
       "      <td>37.788316</td>\n",
       "      <td>-122.411855</td>\n",
       "      <td>0</td>\n",
       "      <td>1</td>\n",
       "      <td>0</td>\n",
       "      <td>0</td>\n",
       "      <td>0</td>\n",
       "      <td>0</td>\n",
       "      <td>0</td>\n",
       "      <td>0</td>\n",
       "      <td>1</td>\n",
       "      <td>0</td>\n",
       "      <td>0</td>\n",
       "      <td>0</td>\n",
       "      <td>0</td>\n",
       "      <td>0</td>\n",
       "      <td>0</td>\n",
       "      <td>0</td>\n",
       "      <td>0</td>\n",
       "      <td>1</td>\n",
       "      <td>0</td>\n",
       "      <td>0</td>\n",
       "      <td>0</td>\n",
       "      <td>1</td>\n",
       "      <td>0</td>\n",
       "      <td>0</td>\n",
       "      <td>0</td>\n",
       "      <td>0</td>\n",
       "      <td>0</td>\n",
       "      <td>0</td>\n",
       "      <td>0</td>\n",
       "      <td>0</td>\n",
       "      <td>0</td>\n",
       "      <td>0</td>\n",
       "      <td>0</td>\n",
       "      <td>0</td>\n",
       "      <td>0</td>\n",
       "      <td>0</td>\n",
       "      <td>0</td>\n",
       "      <td>0</td>\n",
       "      <td>0</td>\n",
       "      <td>1</td>\n",
       "      <td>0</td>\n",
       "      <td>0</td>\n",
       "      <td>0</td>\n",
       "      <td>0</td>\n",
       "      <td>0</td>\n",
       "      <td>0</td>\n",
       "      <td>0</td>\n",
       "      <td>0</td>\n",
       "      <td>0</td>\n",
       "      <td>1</td>\n",
       "      <td>0</td>\n",
       "      <td>0</td>\n",
       "      <td>1</td>\n",
       "      <td>0</td>\n",
       "      <td>0</td>\n",
       "      <td>1</td>\n",
       "      <td>0</td>\n",
       "      <td>1</td>\n",
       "      <td>0</td>\n",
       "      <td>0</td>\n",
       "      <td>0</td>\n",
       "      <td>0</td>\n",
       "    </tr>\n",
       "    <tr>\n",
       "      <th>5</th>\n",
       "      <td>0</td>\n",
       "      <td>37.729302</td>\n",
       "      <td>-122.390877</td>\n",
       "      <td>0</td>\n",
       "      <td>1</td>\n",
       "      <td>0</td>\n",
       "      <td>0</td>\n",
       "      <td>0</td>\n",
       "      <td>0</td>\n",
       "      <td>1</td>\n",
       "      <td>0</td>\n",
       "      <td>0</td>\n",
       "      <td>0</td>\n",
       "      <td>0</td>\n",
       "      <td>0</td>\n",
       "      <td>0</td>\n",
       "      <td>0</td>\n",
       "      <td>0</td>\n",
       "      <td>1</td>\n",
       "      <td>0</td>\n",
       "      <td>0</td>\n",
       "      <td>0</td>\n",
       "      <td>0</td>\n",
       "      <td>1</td>\n",
       "      <td>0</td>\n",
       "      <td>0</td>\n",
       "      <td>1</td>\n",
       "      <td>0</td>\n",
       "      <td>0</td>\n",
       "      <td>1</td>\n",
       "      <td>0</td>\n",
       "      <td>0</td>\n",
       "      <td>0</td>\n",
       "      <td>0</td>\n",
       "      <td>0</td>\n",
       "      <td>0</td>\n",
       "      <td>0</td>\n",
       "      <td>0</td>\n",
       "      <td>0</td>\n",
       "      <td>1</td>\n",
       "      <td>0</td>\n",
       "      <td>0</td>\n",
       "      <td>0</td>\n",
       "      <td>0</td>\n",
       "      <td>0</td>\n",
       "      <td>0</td>\n",
       "      <td>0</td>\n",
       "      <td>0</td>\n",
       "      <td>0</td>\n",
       "      <td>0</td>\n",
       "      <td>0</td>\n",
       "      <td>0</td>\n",
       "      <td>1</td>\n",
       "      <td>0</td>\n",
       "      <td>0</td>\n",
       "      <td>1</td>\n",
       "      <td>0</td>\n",
       "      <td>0</td>\n",
       "      <td>1</td>\n",
       "      <td>0</td>\n",
       "      <td>1</td>\n",
       "      <td>0</td>\n",
       "      <td>0</td>\n",
       "      <td>0</td>\n",
       "      <td>0</td>\n",
       "    </tr>\n",
       "  </tbody>\n",
       "</table>\n",
       "</div>"
      ],
      "text/plain": [
       "   Target  Longitude    Latitude  Call Type_All other < ~5%  \\\n",
       "0       0  37.801325 -122.453498                          0   \n",
       "2       0  37.745956 -122.454240                          0   \n",
       "3       0  37.710878 -122.409122                          0   \n",
       "4       0  37.788316 -122.411855                          0   \n",
       "5       0  37.729302 -122.390877                          0   \n",
       "\n",
       "   Call Type_Medical Incident  Call Type_Outside Fire  \\\n",
       "0                           0                       0   \n",
       "2                           1                       0   \n",
       "3                           1                       0   \n",
       "4                           1                       0   \n",
       "5                           1                       0   \n",
       "\n",
       "   Call Type_Structure Fire  Call Type_Traffic Collision  Station Area_13  \\\n",
       "0                         0                            0                0   \n",
       "2                         0                            0                0   \n",
       "3                         0                            0                0   \n",
       "4                         0                            0                0   \n",
       "5                         0                            0                0   \n",
       "\n",
       "   Station Area_17  Station Area_28  Station Area_3  Station Area_35  \\\n",
       "0                0                0               0                0   \n",
       "2                0                0               0                0   \n",
       "3                0                0               0                0   \n",
       "4                0                0               1                0   \n",
       "5                1                0               0                0   \n",
       "\n",
       "   Station Area_36  Station Area_5  Station Area_6  Station Area_7  \\\n",
       "0                0               0               0               0   \n",
       "2                0               0               0               0   \n",
       "3                0               0               0               0   \n",
       "4                0               0               0               0   \n",
       "5                0               0               0               0   \n",
       "\n",
       "   Station Area_All other  Original Priority_3  Original Priority_A  \\\n",
       "0                       1                    1                    0   \n",
       "2                       1                    1                    0   \n",
       "3                       1                    0                    0   \n",
       "4                       0                    0                    0   \n",
       "5                       0                    1                    0   \n",
       "\n",
       "   Original Priority_All other  Original Priority_B  Call Type Group_Fire  \\\n",
       "0                            0                    0                     0   \n",
       "2                            0                    0                     0   \n",
       "3                            0                    0                     0   \n",
       "4                            1                    0                     0   \n",
       "5                            0                    0                     0   \n",
       "\n",
       "   Call Type Group_Non Life-threatening  \\\n",
       "0                                     0   \n",
       "2                                     0   \n",
       "3                                     1   \n",
       "4                                     0   \n",
       "5                                     1   \n",
       "\n",
       "   Call Type Group_Potentially Life-Threatening  Number of Alarms_All other  \\\n",
       "0                                             0                           0   \n",
       "2                                             1                           0   \n",
       "3                                             0                           0   \n",
       "4                                             1                           0   \n",
       "5                                             0                           0   \n",
       "\n",
       "   Unit sequence in call dispatch_2.0  Unit sequence in call dispatch_3.0  \\\n",
       "0                                   0                                   1   \n",
       "2                                   0                                   0   \n",
       "3                                   0                                   0   \n",
       "4                                   0                                   0   \n",
       "5                                   1                                   0   \n",
       "\n",
       "   Unit sequence in call dispatch_All other  Fire Prevention District_10  \\\n",
       "0                                         0                            0   \n",
       "2                                         0                            0   \n",
       "3                                         0                            0   \n",
       "4                                         0                            0   \n",
       "5                                         0                            1   \n",
       "\n",
       "   Fire Prevention District_2  Fire Prevention District_3  \\\n",
       "0                           0                           0   \n",
       "2                           0                           0   \n",
       "3                           0                           0   \n",
       "4                           0                           0   \n",
       "5                           0                           0   \n",
       "\n",
       "   Fire Prevention District_4  Fire Prevention District_5  \\\n",
       "0                           0                           0   \n",
       "2                           0                           0   \n",
       "3                           0                           0   \n",
       "4                           0                           0   \n",
       "5                           0                           0   \n",
       "\n",
       "   Fire Prevention District_6  Fire Prevention District_7  \\\n",
       "0                           0                           1   \n",
       "2                           0                           0   \n",
       "3                           0                           0   \n",
       "4                           0                           0   \n",
       "5                           0                           0   \n",
       "\n",
       "   Fire Prevention District_8  Fire Prevention District_9  \\\n",
       "0                           0                           0   \n",
       "2                           1                           0   \n",
       "3                           0                           1   \n",
       "4                           0                           0   \n",
       "5                           0                           0   \n",
       "\n",
       "   Fire Prevention District_None  Supervisor District_10  \\\n",
       "0                              0                       0   \n",
       "2                              0                       0   \n",
       "3                              0                       1   \n",
       "4                              0                       0   \n",
       "5                              0                       1   \n",
       "\n",
       "   Supervisor District_11  Supervisor District_2  Supervisor District_3  \\\n",
       "0                       0                      1                      0   \n",
       "2                       0                      0                      0   \n",
       "3                       0                      0                      0   \n",
       "4                       0                      0                      1   \n",
       "5                       0                      0                      0   \n",
       "\n",
       "   Supervisor District_4  Supervisor District_5  Supervisor District_6  \\\n",
       "0                      0                      0                      0   \n",
       "2                      0                      0                      0   \n",
       "3                      0                      0                      0   \n",
       "4                      0                      0                      0   \n",
       "5                      0                      0                      0   \n",
       "\n",
       "   Supervisor District_7  Supervisor District_8  Supervisor District_9  \\\n",
       "0                      0                      0                      0   \n",
       "2                      1                      0                      0   \n",
       "3                      0                      0                      0   \n",
       "4                      0                      0                      0   \n",
       "5                      0                      0                      0   \n",
       "\n",
       "   Supervisor District_None  Seasons_Spring  Seasons_Summer  Seasons_Winter  \\\n",
       "0                         0               0               0               1   \n",
       "2                         0               0               0               1   \n",
       "3                         0               0               0               1   \n",
       "4                         0               0               0               1   \n",
       "5                         0               0               0               1   \n",
       "\n",
       "   Time_of_Day_Evening  Time_of_Day_Late_Morning  Time_of_Day_Late_Night  \\\n",
       "0                    0                         0                       0   \n",
       "2                    0                         0                       1   \n",
       "3                    0                         0                       1   \n",
       "4                    0                         0                       1   \n",
       "5                    0                         0                       1   \n",
       "\n",
       "   Time_of_Day_Morning  Time_of_Day_NightTime  ALS Unit_True  Day_of_Week_1  \\\n",
       "0                    0                      1              0              0   \n",
       "2                    0                      0              1              0   \n",
       "3                    0                      0              1              0   \n",
       "4                    0                      0              1              0   \n",
       "5                    0                      0              1              0   \n",
       "\n",
       "   Day_of_Week_2  Day_of_Week_3  Day_of_Week_4  Day_of_Week_5  Day_of_Week_6  \n",
       "0              0              0              0              0              0  \n",
       "2              1              0              0              0              0  \n",
       "3              1              0              0              0              0  \n",
       "4              1              0              0              0              0  \n",
       "5              1              0              0              0              0  "
      ]
     },
     "execution_count": 27,
     "metadata": {},
     "output_type": "execute_result"
    }
   ],
   "source": [
    "fire_df=pd.get_dummies(fire_df,drop_first=True)\n",
    "fire_df=pd.get_dummies(fire_df, columns=[\"ALS Unit\",'Day_of_Week'],drop_first=True)\n",
    "\n",
    "fire_df.head()"
   ]
  },
  {
   "cell_type": "code",
   "execution_count": 28,
   "metadata": {},
   "outputs": [
    {
     "data": {
      "text/plain": [
       "(274866, 65)"
      ]
     },
     "execution_count": 28,
     "metadata": {},
     "output_type": "execute_result"
    }
   ],
   "source": [
    "fire_df.shape"
   ]
  },
  {
   "cell_type": "markdown",
   "metadata": {},
   "source": [
    "## 3. Data Exploration"
   ]
  },
  {
   "cell_type": "markdown",
   "metadata": {},
   "source": [
    "### 3A. TARGET DISTRIBUTION"
   ]
  },
  {
   "cell_type": "code",
   "execution_count": 29,
   "metadata": {},
   "outputs": [
    {
     "data": {
      "image/png": "[encoded data removed]",
      "text/plain": [
       "<Figure size 864x432 with 1 Axes>"
      ]
     },
     "metadata": {
      "needs_background": "light"
     },
     "output_type": "display_data"
    }
   ],
   "source": [
    "plt.figure(figsize=(12,6))\n",
    "\n",
    "\n",
    "g = sns.countplot(x='Target', data=fire_df_visuals, color='green')\n",
    "g.set_title(\"TARGET DISTRIBUTION\", fontsize = 20)\n",
    "g.set_xlabel(\"Target Vaues\", fontsize = 15)\n",
    "g.set_ylabel(\"Count\", fontsize = 15)\n",
    "\n",
    "\n",
    "for p in g.patches:\n",
    "    g.text( p.get_x()+p.get_width()/2,     p.get_height()+3,    '{:1.2f}%'.format(p.get_height()/len(fire_df)*100), ha=\"center\", fontsize=14) \n",
    "\n",
    "plt.show()"
   ]
  },
  {
   "cell_type": "markdown",
   "metadata": {},
   "source": [
    "**THE TARGET DISTRIBUTION IS HIGHLY IMBALANCED. WE WILL EMPLOY OVERSAMPLING TO BALANCE THE CLASS. FOR NOW, LETS EXPLORE THE ACTUAL FEATURES.** "
   ]
  },
  {
   "cell_type": "code",
   "execution_count": 30,
   "metadata": {},
   "outputs": [
    {
     "name": "stdout",
     "output_type": "stream",
     "text": [
      "*******************************************************************************************************************\n"
     ]
    }
   ],
   "source": [
    "print (\"*\"*115)"
   ]
  },
  {
   "cell_type": "markdown",
   "metadata": {},
   "source": [
    "### 3B. FEATURE DISTRIBUTIONS"
   ]
  },
  {
   "cell_type": "code",
   "execution_count": 31,
   "metadata": {},
   "outputs": [
    {
     "data": {
      "image/png": "[encoded data removed]",
      "text/plain": [
       "<Figure size 864x432 with 1 Axes>"
      ]
     },
     "metadata": {
      "needs_background": "light"
     },
     "output_type": "display_data"
    }
   ],
   "source": [
    "plt.figure(figsize=(12,6))\n",
    "\n",
    "\n",
    "ax=sns.countplot(x='ALS Unit', data=fire_df_visuals, color='green',hue=\"Target\")\n",
    "\n",
    "ax.set_title(\"BINARY FEATURE DISTRIBUTION\", fontsize = 20)\n",
    "ax.set_xlabel(\"ALS NEEDED\", fontsize = 15)\n",
    "ax.set_ylabel(\"FREQUENCY\", fontsize = 15)\n",
    "\n",
    "\n",
    "plt.show()"
   ]
  },
  {
   "cell_type": "code",
   "execution_count": 32,
   "metadata": {},
   "outputs": [
    {
     "name": "stdout",
     "output_type": "stream",
     "text": [
      "Chi_Squared_value = 0.0000000\n"
     ]
    },
    {
     "data": {
      "text/html": [
       "<div>\n",
       "<style scoped>\n",
       "    .dataframe tbody tr th:only-of-type {\n",
       "        vertical-align: middle;\n",
       "    }\n",
       "\n",
       "    .dataframe tbody tr th {\n",
       "        vertical-align: top;\n",
       "    }\n",
       "\n",
       "    .dataframe thead th {\n",
       "        text-align: right;\n",
       "    }\n",
       "</style>\n",
       "<table border=\"1\" class=\"dataframe\">\n",
       "  <thead>\n",
       "    <tr style=\"text-align: right;\">\n",
       "      <th>ALS Unit</th>\n",
       "      <th>False</th>\n",
       "      <th>True</th>\n",
       "    </tr>\n",
       "    <tr>\n",
       "      <th>Target</th>\n",
       "      <th></th>\n",
       "      <th></th>\n",
       "    </tr>\n",
       "  </thead>\n",
       "  <tbody>\n",
       "    <tr>\n",
       "      <th>0</th>\n",
       "      <td>92%</td>\n",
       "      <td>90%</td>\n",
       "    </tr>\n",
       "    <tr>\n",
       "      <th>1</th>\n",
       "      <td>8%</td>\n",
       "      <td>10%</td>\n",
       "    </tr>\n",
       "  </tbody>\n",
       "</table>\n",
       "</div>"
      ],
      "text/plain": [
       "ALS Unit False True \n",
       "Target              \n",
       "0          92%   90%\n",
       "1           8%   10%"
      ]
     },
     "execution_count": 32,
     "metadata": {},
     "output_type": "execute_result"
    }
   ],
   "source": [
    "def crosstab_percentages(target,categorical_column):\n",
    "    Target_Distribution=pd.crosstab(fire_df_visuals[\"Target\"],fire_df_visuals[categorical_column])\n",
    "    Target_Distribution_Percentage=Target_Distribution/Target_Distribution.sum()\n",
    "    stat, p, dof, expected = sc.chi2_contingency(Target_Distribution)\n",
    "    print (\"Chi_Squared_value = \" +\"{0:.7f}\".format(p))\n",
    "    return (Target_Distribution_Percentage.round(decimals=2)*100).astype(int).astype(str)+\"%\"\n",
    "\n",
    "# Binary_Target_Distribution=pd.crosstab(fire_df_visuals[\"Target\"],fire_df_visuals[\"ALS Unit\"])\n",
    "# Binary_Target_Distribution_Percentage=Binary_Target_Distribution/Binary_Target_Distribution.sum()\n",
    "\n",
    "# (Binary_Target_Distribution_Percentage.round(decimals=2)*100).astype(int).astype(str)+\"%\"\n",
    "\n",
    "crosstab_percentages(fire_df_visuals[\"Target\"],\"ALS Unit\")"
   ]
  },
  {
   "cell_type": "markdown",
   "metadata": {},
   "source": [
    "**This feature does not seem to be a good indicator of the target.**"
   ]
  },
  {
   "cell_type": "code",
   "execution_count": 33,
   "metadata": {},
   "outputs": [
    {
     "name": "stdout",
     "output_type": "stream",
     "text": [
      "*******************************************************************************************************************\n"
     ]
    }
   ],
   "source": [
    "print (\"*\"*115)"
   ]
  },
  {
   "cell_type": "code",
   "execution_count": 34,
   "metadata": {},
   "outputs": [
    {
     "data": {
      "image/png": "[encoded data removed]",
      "text/plain": [
       "<Figure size 864x432 with 1 Axes>"
      ]
     },
     "metadata": {
      "needs_background": "light"
     },
     "output_type": "display_data"
    }
   ],
   "source": [
    "plt.figure(figsize=(12,6))\n",
    "\n",
    "sns.countplot(x=\"Call Type\",data=fire_df_visuals,color='blue', hue=\"Target\").tick_params(labelsize=20)\n",
    "plt.xticks(rotation='vertical')\n",
    "plt.xlabel(\" \")\n",
    "plt.ylabel(\"FREQUENCY OF CALLS\",fontsize=20)\n",
    "plt.title(\"NOMINAL FEATURE - CALL TYPE\",fontsize=20)\n",
    "plt.legend(loc=2)\n",
    "plt.show()"
   ]
  },
  {
   "cell_type": "code",
   "execution_count": 35,
   "metadata": {},
   "outputs": [
    {
     "name": "stdout",
     "output_type": "stream",
     "text": [
      "Chi_Squared_value = 0.0000000\n"
     ]
    },
    {
     "data": {
      "text/html": [
       "<div>\n",
       "<style scoped>\n",
       "    .dataframe tbody tr th:only-of-type {\n",
       "        vertical-align: middle;\n",
       "    }\n",
       "\n",
       "    .dataframe tbody tr th {\n",
       "        vertical-align: top;\n",
       "    }\n",
       "\n",
       "    .dataframe thead th {\n",
       "        text-align: right;\n",
       "    }\n",
       "</style>\n",
       "<table border=\"1\" class=\"dataframe\">\n",
       "  <thead>\n",
       "    <tr style=\"text-align: right;\">\n",
       "      <th>Call Type</th>\n",
       "      <th>Alarms</th>\n",
       "      <th>All other &lt; ~5%</th>\n",
       "      <th>Medical Incident</th>\n",
       "      <th>Outside Fire</th>\n",
       "      <th>Structure Fire</th>\n",
       "      <th>Traffic Collision</th>\n",
       "    </tr>\n",
       "    <tr>\n",
       "      <th>Target</th>\n",
       "      <th></th>\n",
       "      <th></th>\n",
       "      <th></th>\n",
       "      <th></th>\n",
       "      <th></th>\n",
       "      <th></th>\n",
       "    </tr>\n",
       "  </thead>\n",
       "  <tbody>\n",
       "    <tr>\n",
       "      <th>0</th>\n",
       "      <td>99%</td>\n",
       "      <td>94%</td>\n",
       "      <td>89%</td>\n",
       "      <td>94%</td>\n",
       "      <td>98%</td>\n",
       "      <td>87%</td>\n",
       "    </tr>\n",
       "    <tr>\n",
       "      <th>1</th>\n",
       "      <td>1%</td>\n",
       "      <td>6%</td>\n",
       "      <td>11%</td>\n",
       "      <td>6%</td>\n",
       "      <td>2%</td>\n",
       "      <td>13%</td>\n",
       "    </tr>\n",
       "  </tbody>\n",
       "</table>\n",
       "</div>"
      ],
      "text/plain": [
       "Call Type Alarms All other < ~5% Medical Incident Outside Fire Structure Fire  \\\n",
       "Target                                                                          \n",
       "0            99%             94%              89%          94%            98%   \n",
       "1             1%              6%              11%           6%             2%   \n",
       "\n",
       "Call Type Traffic Collision  \n",
       "Target                       \n",
       "0                       87%  \n",
       "1                       13%  "
      ]
     },
     "execution_count": 35,
     "metadata": {},
     "output_type": "execute_result"
    }
   ],
   "source": [
    "crosstab_percentages(fire_df_visuals[\"Target\"],\"Call Type\")"
   ]
  },
  {
   "cell_type": "markdown",
   "metadata": {},
   "source": [
    "**This feature does not seem to be a good indicator of the target.**"
   ]
  },
  {
   "cell_type": "code",
   "execution_count": 36,
   "metadata": {},
   "outputs": [
    {
     "name": "stdout",
     "output_type": "stream",
     "text": [
      "*******************************************************************************************************************\n"
     ]
    }
   ],
   "source": [
    "print (\"*\"*115)"
   ]
  },
  {
   "cell_type": "code",
   "execution_count": 37,
   "metadata": {},
   "outputs": [
    {
     "data": {
      "image/png": "[encoded data removed]",
      "text/plain": [
       "<Figure size 1440x576 with 1 Axes>"
      ]
     },
     "metadata": {
      "needs_background": "light"
     },
     "output_type": "display_data"
    }
   ],
   "source": [
    "plt.figure(figsize=(20,8))\n",
    "sns.countplot(x=\"Station Area\",data=fire_df_visuals,color='blue', hue=\"Target\").tick_params(labelsize=20)\n",
    "plt.xticks(rotation='vertical')\n",
    "#plt.xlabel(\"STATION AREA\",fontsize=20)\n",
    "plt.ylabel(\"FREQUENCY OF CALLS\",fontsize=20)\n",
    "plt.title(\"NOMINAL FEATURE - STATION AREA\",fontsize=20)\n",
    "plt.legend(loc=2)\n",
    "plt.show()"
   ]
  },
  {
   "cell_type": "code",
   "execution_count": 38,
   "metadata": {},
   "outputs": [
    {
     "name": "stdout",
     "output_type": "stream",
     "text": [
      "Chi_Squared_value = 0.0000000\n"
     ]
    },
    {
     "data": {
      "text/html": [
       "<div>\n",
       "<style scoped>\n",
       "    .dataframe tbody tr th:only-of-type {\n",
       "        vertical-align: middle;\n",
       "    }\n",
       "\n",
       "    .dataframe tbody tr th {\n",
       "        vertical-align: top;\n",
       "    }\n",
       "\n",
       "    .dataframe thead th {\n",
       "        text-align: right;\n",
       "    }\n",
       "</style>\n",
       "<table border=\"1\" class=\"dataframe\">\n",
       "  <thead>\n",
       "    <tr style=\"text-align: right;\">\n",
       "      <th>Station Area</th>\n",
       "      <th>1</th>\n",
       "      <th>13</th>\n",
       "      <th>17</th>\n",
       "      <th>28</th>\n",
       "      <th>3</th>\n",
       "      <th>35</th>\n",
       "      <th>36</th>\n",
       "      <th>5</th>\n",
       "      <th>6</th>\n",
       "      <th>7</th>\n",
       "      <th>All other</th>\n",
       "    </tr>\n",
       "    <tr>\n",
       "      <th>Target</th>\n",
       "      <th></th>\n",
       "      <th></th>\n",
       "      <th></th>\n",
       "      <th></th>\n",
       "      <th></th>\n",
       "      <th></th>\n",
       "      <th></th>\n",
       "      <th></th>\n",
       "      <th></th>\n",
       "      <th></th>\n",
       "      <th></th>\n",
       "    </tr>\n",
       "  </thead>\n",
       "  <tbody>\n",
       "    <tr>\n",
       "      <th>0</th>\n",
       "      <td>89%</td>\n",
       "      <td>89%</td>\n",
       "      <td>94%</td>\n",
       "      <td>91%</td>\n",
       "      <td>91%</td>\n",
       "      <td>91%</td>\n",
       "      <td>87%</td>\n",
       "      <td>93%</td>\n",
       "      <td>87%</td>\n",
       "      <td>90%</td>\n",
       "      <td>92%</td>\n",
       "    </tr>\n",
       "    <tr>\n",
       "      <th>1</th>\n",
       "      <td>11%</td>\n",
       "      <td>11%</td>\n",
       "      <td>6%</td>\n",
       "      <td>9%</td>\n",
       "      <td>9%</td>\n",
       "      <td>9%</td>\n",
       "      <td>13%</td>\n",
       "      <td>7%</td>\n",
       "      <td>13%</td>\n",
       "      <td>10%</td>\n",
       "      <td>8%</td>\n",
       "    </tr>\n",
       "  </tbody>\n",
       "</table>\n",
       "</div>"
      ],
      "text/plain": [
       "Station Area    1   13   17   28    3   35   36    5    6    7 All other\n",
       "Target                                                                  \n",
       "0             89%  89%  94%  91%  91%  91%  87%  93%  87%  90%       92%\n",
       "1             11%  11%   6%   9%   9%   9%  13%   7%  13%  10%        8%"
      ]
     },
     "execution_count": 38,
     "metadata": {},
     "output_type": "execute_result"
    }
   ],
   "source": [
    "crosstab_percentages(fire_df_visuals[\"Target\"],\"Station Area\")"
   ]
  },
  {
   "cell_type": "markdown",
   "metadata": {},
   "source": [
    "**This feature does not seem to be a good indicator of the target.**"
   ]
  },
  {
   "cell_type": "code",
   "execution_count": 39,
   "metadata": {},
   "outputs": [
    {
     "name": "stdout",
     "output_type": "stream",
     "text": [
      "*******************************************************************************************************************\n"
     ]
    }
   ],
   "source": [
    "print (\"*\"*115)"
   ]
  },
  {
   "cell_type": "code",
   "execution_count": 40,
   "metadata": {},
   "outputs": [
    {
     "data": {
      "image/png": "[encoded data removed]",
      "text/plain": [
       "<Figure size 2160x1800 with 8 Axes>"
      ]
     },
     "metadata": {
      "needs_background": "light"
     },
     "output_type": "display_data"
    }
   ],
   "source": [
    "Nominal_Features=['Call Type Group', 'Fire Prevention District', 'Supervisor District', 'Time_of_Day','Day_of_Week',\"Unit sequence in call dispatch\",'Number of Alarms','Seasons']\n",
    "\n",
    "fig, ax = plt.subplots(4,2, figsize=(30, 25))\n",
    "\n",
    "for i in range(len(Nominal_Features)):\n",
    "    sns.countplot(x=fire_df_visuals[Nominal_Features[i]],data=fire_df_visuals,ax=ax[i//2][i%2], hue=\"Target\").tick_params(labelsize=20)\n",
    "    Nominal_Target_Distribution=pd.crosstab(fire_df_visuals[\"Target\"],fire_df_visuals[Nominal_Features[i]])\n",
    "    stat, p, dof, expected = sc.chi2_contingency(Nominal_Target_Distribution)\n",
    "    ax[i//2][i%2].set_title(Nominal_Features[i].upper() +\"  \"+\"Chi_Sq_Pvalue=\" +\"{0:.7f}\".format(p),fontsize=20)\n",
    "    ax[i//2][i%2].set_ylabel(\"FREQUENCY\",fontsize=20)\n",
    "    ax[i//2][i%2].set_xlabel(\"  \")\n",
    "    \n",
    "    \n",
    "    \n",
    "    \n",
    "\n",
    "fig.suptitle(\"NOMINAL FEATURE DISTRIBUTION\", fontsize=40)\n",
    "plt.show()"
   ]
  },
  {
   "cell_type": "code",
   "execution_count": 41,
   "metadata": {},
   "outputs": [
    {
     "name": "stdout",
     "output_type": "stream",
     "text": [
      "Chi_Squared_value = 0.0000000\n"
     ]
    },
    {
     "data": {
      "text/html": [
       "<div>\n",
       "<style scoped>\n",
       "    .dataframe tbody tr th:only-of-type {\n",
       "        vertical-align: middle;\n",
       "    }\n",
       "\n",
       "    .dataframe tbody tr th {\n",
       "        vertical-align: top;\n",
       "    }\n",
       "\n",
       "    .dataframe thead th {\n",
       "        text-align: right;\n",
       "    }\n",
       "</style>\n",
       "<table border=\"1\" class=\"dataframe\">\n",
       "  <thead>\n",
       "    <tr style=\"text-align: right;\">\n",
       "      <th>Call Type Group</th>\n",
       "      <th>Alarm</th>\n",
       "      <th>Fire</th>\n",
       "      <th>Non Life-threatening</th>\n",
       "      <th>Potentially Life-Threatening</th>\n",
       "    </tr>\n",
       "    <tr>\n",
       "      <th>Target</th>\n",
       "      <th></th>\n",
       "      <th></th>\n",
       "      <th></th>\n",
       "      <th></th>\n",
       "    </tr>\n",
       "  </thead>\n",
       "  <tbody>\n",
       "    <tr>\n",
       "      <th>0</th>\n",
       "      <td>98%</td>\n",
       "      <td>95%</td>\n",
       "      <td>87%</td>\n",
       "      <td>89%</td>\n",
       "    </tr>\n",
       "    <tr>\n",
       "      <th>1</th>\n",
       "      <td>2%</td>\n",
       "      <td>5%</td>\n",
       "      <td>13%</td>\n",
       "      <td>11%</td>\n",
       "    </tr>\n",
       "  </tbody>\n",
       "</table>\n",
       "</div>"
      ],
      "text/plain": [
       "Call Type Group Alarm Fire Non Life-threatening Potentially Life-Threatening\n",
       "Target                                                                      \n",
       "0                 98%  95%                  87%                          89%\n",
       "1                  2%   5%                  13%                          11%"
      ]
     },
     "execution_count": 41,
     "metadata": {},
     "output_type": "execute_result"
    }
   ],
   "source": [
    "crosstab_percentages(fire_df_visuals[\"Target\"],\"Call Type Group\")"
   ]
  },
  {
   "cell_type": "markdown",
   "metadata": {},
   "source": [
    "**This feature does not seem to be a good indicator of the target.**"
   ]
  },
  {
   "cell_type": "code",
   "execution_count": 42,
   "metadata": {},
   "outputs": [
    {
     "name": "stdout",
     "output_type": "stream",
     "text": [
      "Chi_Squared_value = 0.0000000\n"
     ]
    },
    {
     "data": {
      "text/html": [
       "<div>\n",
       "<style scoped>\n",
       "    .dataframe tbody tr th:only-of-type {\n",
       "        vertical-align: middle;\n",
       "    }\n",
       "\n",
       "    .dataframe tbody tr th {\n",
       "        vertical-align: top;\n",
       "    }\n",
       "\n",
       "    .dataframe thead th {\n",
       "        text-align: right;\n",
       "    }\n",
       "</style>\n",
       "<table border=\"1\" class=\"dataframe\">\n",
       "  <thead>\n",
       "    <tr style=\"text-align: right;\">\n",
       "      <th>Fire Prevention District</th>\n",
       "      <th>1</th>\n",
       "      <th>10</th>\n",
       "      <th>2</th>\n",
       "      <th>3</th>\n",
       "      <th>4</th>\n",
       "      <th>5</th>\n",
       "      <th>6</th>\n",
       "      <th>7</th>\n",
       "      <th>8</th>\n",
       "      <th>9</th>\n",
       "      <th>None</th>\n",
       "    </tr>\n",
       "    <tr>\n",
       "      <th>Target</th>\n",
       "      <th></th>\n",
       "      <th></th>\n",
       "      <th></th>\n",
       "      <th></th>\n",
       "      <th></th>\n",
       "      <th></th>\n",
       "      <th></th>\n",
       "      <th></th>\n",
       "      <th></th>\n",
       "      <th></th>\n",
       "      <th></th>\n",
       "    </tr>\n",
       "  </thead>\n",
       "  <tbody>\n",
       "    <tr>\n",
       "      <th>0</th>\n",
       "      <td>91%</td>\n",
       "      <td>93%</td>\n",
       "      <td>89%</td>\n",
       "      <td>90%</td>\n",
       "      <td>91%</td>\n",
       "      <td>91%</td>\n",
       "      <td>91%</td>\n",
       "      <td>92%</td>\n",
       "      <td>94%</td>\n",
       "      <td>94%</td>\n",
       "      <td>91%</td>\n",
       "    </tr>\n",
       "    <tr>\n",
       "      <th>1</th>\n",
       "      <td>9%</td>\n",
       "      <td>7%</td>\n",
       "      <td>11%</td>\n",
       "      <td>10%</td>\n",
       "      <td>9%</td>\n",
       "      <td>9%</td>\n",
       "      <td>9%</td>\n",
       "      <td>8%</td>\n",
       "      <td>6%</td>\n",
       "      <td>6%</td>\n",
       "      <td>9%</td>\n",
       "    </tr>\n",
       "  </tbody>\n",
       "</table>\n",
       "</div>"
      ],
      "text/plain": [
       "Fire Prevention District    1   10    2    3    4    5    6    7    8    9  \\\n",
       "Target                                                                       \n",
       "0                         91%  93%  89%  90%  91%  91%  91%  92%  94%  94%   \n",
       "1                          9%   7%  11%  10%   9%   9%   9%   8%   6%   6%   \n",
       "\n",
       "Fire Prevention District None  \n",
       "Target                         \n",
       "0                         91%  \n",
       "1                          9%  "
      ]
     },
     "execution_count": 42,
     "metadata": {},
     "output_type": "execute_result"
    }
   ],
   "source": [
    "crosstab_percentages(fire_df_visuals[\"Target\"],\"Fire Prevention District\")"
   ]
  },
  {
   "cell_type": "markdown",
   "metadata": {},
   "source": [
    "**This feature does not seem to be a good indicator of the target.**"
   ]
  },
  {
   "cell_type": "code",
   "execution_count": 43,
   "metadata": {},
   "outputs": [
    {
     "name": "stdout",
     "output_type": "stream",
     "text": [
      "Chi_Squared_value = 0.0000000\n"
     ]
    },
    {
     "data": {
      "text/html": [
       "<div>\n",
       "<style scoped>\n",
       "    .dataframe tbody tr th:only-of-type {\n",
       "        vertical-align: middle;\n",
       "    }\n",
       "\n",
       "    .dataframe tbody tr th {\n",
       "        vertical-align: top;\n",
       "    }\n",
       "\n",
       "    .dataframe thead th {\n",
       "        text-align: right;\n",
       "    }\n",
       "</style>\n",
       "<table border=\"1\" class=\"dataframe\">\n",
       "  <thead>\n",
       "    <tr style=\"text-align: right;\">\n",
       "      <th>Supervisor District</th>\n",
       "      <th>1</th>\n",
       "      <th>10</th>\n",
       "      <th>11</th>\n",
       "      <th>2</th>\n",
       "      <th>3</th>\n",
       "      <th>4</th>\n",
       "      <th>5</th>\n",
       "      <th>6</th>\n",
       "      <th>7</th>\n",
       "      <th>8</th>\n",
       "      <th>9</th>\n",
       "      <th>None</th>\n",
       "    </tr>\n",
       "    <tr>\n",
       "      <th>Target</th>\n",
       "      <th></th>\n",
       "      <th></th>\n",
       "      <th></th>\n",
       "      <th></th>\n",
       "      <th></th>\n",
       "      <th></th>\n",
       "      <th></th>\n",
       "      <th></th>\n",
       "      <th></th>\n",
       "      <th></th>\n",
       "      <th></th>\n",
       "      <th></th>\n",
       "    </tr>\n",
       "  </thead>\n",
       "  <tbody>\n",
       "    <tr>\n",
       "      <th>0</th>\n",
       "      <td>92%</td>\n",
       "      <td>93%</td>\n",
       "      <td>94%</td>\n",
       "      <td>91%</td>\n",
       "      <td>90%</td>\n",
       "      <td>94%</td>\n",
       "      <td>92%</td>\n",
       "      <td>89%</td>\n",
       "      <td>94%</td>\n",
       "      <td>89%</td>\n",
       "      <td>90%</td>\n",
       "      <td>73%</td>\n",
       "    </tr>\n",
       "    <tr>\n",
       "      <th>1</th>\n",
       "      <td>8%</td>\n",
       "      <td>7%</td>\n",
       "      <td>6%</td>\n",
       "      <td>9%</td>\n",
       "      <td>10%</td>\n",
       "      <td>6%</td>\n",
       "      <td>8%</td>\n",
       "      <td>11%</td>\n",
       "      <td>6%</td>\n",
       "      <td>11%</td>\n",
       "      <td>10%</td>\n",
       "      <td>27%</td>\n",
       "    </tr>\n",
       "  </tbody>\n",
       "</table>\n",
       "</div>"
      ],
      "text/plain": [
       "Supervisor District    1   10   11    2    3    4    5    6    7    8    9  \\\n",
       "Target                                                                       \n",
       "0                    92%  93%  94%  91%  90%  94%  92%  89%  94%  89%  90%   \n",
       "1                     8%   7%   6%   9%  10%   6%   8%  11%   6%  11%  10%   \n",
       "\n",
       "Supervisor District None  \n",
       "Target                    \n",
       "0                    73%  \n",
       "1                    27%  "
      ]
     },
     "execution_count": 43,
     "metadata": {},
     "output_type": "execute_result"
    }
   ],
   "source": [
    "crosstab_percentages(fire_df_visuals[\"Target\"],\"Supervisor District\")"
   ]
  },
  {
   "cell_type": "markdown",
   "metadata": {},
   "source": [
    "**This feature does not seem to be a good indicator of the target.**"
   ]
  },
  {
   "cell_type": "code",
   "execution_count": 44,
   "metadata": {},
   "outputs": [
    {
     "name": "stdout",
     "output_type": "stream",
     "text": [
      "Chi_Squared_value = 0.0000000\n"
     ]
    },
    {
     "data": {
      "text/html": [
       "<div>\n",
       "<style scoped>\n",
       "    .dataframe tbody tr th:only-of-type {\n",
       "        vertical-align: middle;\n",
       "    }\n",
       "\n",
       "    .dataframe tbody tr th {\n",
       "        vertical-align: top;\n",
       "    }\n",
       "\n",
       "    .dataframe thead th {\n",
       "        text-align: right;\n",
       "    }\n",
       "</style>\n",
       "<table border=\"1\" class=\"dataframe\">\n",
       "  <thead>\n",
       "    <tr style=\"text-align: right;\">\n",
       "      <th>Time_of_Day</th>\n",
       "      <th>Afternoon</th>\n",
       "      <th>Evening</th>\n",
       "      <th>Late_Morning</th>\n",
       "      <th>Late_Night</th>\n",
       "      <th>Morning</th>\n",
       "      <th>NightTime</th>\n",
       "    </tr>\n",
       "    <tr>\n",
       "      <th>Target</th>\n",
       "      <th></th>\n",
       "      <th></th>\n",
       "      <th></th>\n",
       "      <th></th>\n",
       "      <th></th>\n",
       "      <th></th>\n",
       "    </tr>\n",
       "  </thead>\n",
       "  <tbody>\n",
       "    <tr>\n",
       "      <th>0</th>\n",
       "      <td>90%</td>\n",
       "      <td>91%</td>\n",
       "      <td>91%</td>\n",
       "      <td>92%</td>\n",
       "      <td>92%</td>\n",
       "      <td>91%</td>\n",
       "    </tr>\n",
       "    <tr>\n",
       "      <th>1</th>\n",
       "      <td>10%</td>\n",
       "      <td>9%</td>\n",
       "      <td>9%</td>\n",
       "      <td>8%</td>\n",
       "      <td>8%</td>\n",
       "      <td>9%</td>\n",
       "    </tr>\n",
       "  </tbody>\n",
       "</table>\n",
       "</div>"
      ],
      "text/plain": [
       "Time_of_Day Afternoon Evening Late_Morning Late_Night Morning NightTime\n",
       "Target                                                                 \n",
       "0                 90%     91%          91%        92%     92%       91%\n",
       "1                 10%      9%           9%         8%      8%        9%"
      ]
     },
     "execution_count": 44,
     "metadata": {},
     "output_type": "execute_result"
    }
   ],
   "source": [
    "crosstab_percentages(fire_df_visuals[\"Target\"],\"Time_of_Day\")"
   ]
  },
  {
   "cell_type": "markdown",
   "metadata": {},
   "source": [
    "**This feature does not seem to be a good indicator of the target.**"
   ]
  },
  {
   "cell_type": "code",
   "execution_count": 45,
   "metadata": {},
   "outputs": [
    {
     "name": "stdout",
     "output_type": "stream",
     "text": [
      "Chi_Squared_value = 0.0043258\n"
     ]
    },
    {
     "data": {
      "text/html": [
       "<div>\n",
       "<style scoped>\n",
       "    .dataframe tbody tr th:only-of-type {\n",
       "        vertical-align: middle;\n",
       "    }\n",
       "\n",
       "    .dataframe tbody tr th {\n",
       "        vertical-align: top;\n",
       "    }\n",
       "\n",
       "    .dataframe thead th {\n",
       "        text-align: right;\n",
       "    }\n",
       "</style>\n",
       "<table border=\"1\" class=\"dataframe\">\n",
       "  <thead>\n",
       "    <tr style=\"text-align: right;\">\n",
       "      <th>Day_of_Week</th>\n",
       "      <th>0</th>\n",
       "      <th>1</th>\n",
       "      <th>2</th>\n",
       "      <th>3</th>\n",
       "      <th>4</th>\n",
       "      <th>5</th>\n",
       "      <th>6</th>\n",
       "    </tr>\n",
       "    <tr>\n",
       "      <th>Target</th>\n",
       "      <th></th>\n",
       "      <th></th>\n",
       "      <th></th>\n",
       "      <th></th>\n",
       "      <th></th>\n",
       "      <th></th>\n",
       "      <th></th>\n",
       "    </tr>\n",
       "  </thead>\n",
       "  <tbody>\n",
       "    <tr>\n",
       "      <th>0</th>\n",
       "      <td>91%</td>\n",
       "      <td>91%</td>\n",
       "      <td>91%</td>\n",
       "      <td>91%</td>\n",
       "      <td>91%</td>\n",
       "      <td>90%</td>\n",
       "      <td>91%</td>\n",
       "    </tr>\n",
       "    <tr>\n",
       "      <th>1</th>\n",
       "      <td>9%</td>\n",
       "      <td>9%</td>\n",
       "      <td>9%</td>\n",
       "      <td>9%</td>\n",
       "      <td>9%</td>\n",
       "      <td>10%</td>\n",
       "      <td>9%</td>\n",
       "    </tr>\n",
       "  </tbody>\n",
       "</table>\n",
       "</div>"
      ],
      "text/plain": [
       "Day_of_Week    0    1    2    3    4    5    6\n",
       "Target                                        \n",
       "0            91%  91%  91%  91%  91%  90%  91%\n",
       "1             9%   9%   9%   9%   9%  10%   9%"
      ]
     },
     "execution_count": 45,
     "metadata": {},
     "output_type": "execute_result"
    }
   ],
   "source": [
    "crosstab_percentages(fire_df_visuals[\"Target\"],\"Day_of_Week\")"
   ]
  },
  {
   "cell_type": "markdown",
   "metadata": {},
   "source": [
    "**This feature does not seem to be a good indicator of the target.**"
   ]
  },
  {
   "cell_type": "code",
   "execution_count": 46,
   "metadata": {},
   "outputs": [
    {
     "name": "stdout",
     "output_type": "stream",
     "text": [
      "Chi_Squared_value = 0.0000000\n"
     ]
    },
    {
     "data": {
      "text/html": [
       "<div>\n",
       "<style scoped>\n",
       "    .dataframe tbody tr th:only-of-type {\n",
       "        vertical-align: middle;\n",
       "    }\n",
       "\n",
       "    .dataframe tbody tr th {\n",
       "        vertical-align: top;\n",
       "    }\n",
       "\n",
       "    .dataframe thead th {\n",
       "        text-align: right;\n",
       "    }\n",
       "</style>\n",
       "<table border=\"1\" class=\"dataframe\">\n",
       "  <thead>\n",
       "    <tr style=\"text-align: right;\">\n",
       "      <th>Unit sequence in call dispatch</th>\n",
       "      <th>1.0</th>\n",
       "      <th>2.0</th>\n",
       "      <th>3.0</th>\n",
       "      <th>All other</th>\n",
       "    </tr>\n",
       "    <tr>\n",
       "      <th>Target</th>\n",
       "      <th></th>\n",
       "      <th></th>\n",
       "      <th></th>\n",
       "      <th></th>\n",
       "    </tr>\n",
       "  </thead>\n",
       "  <tbody>\n",
       "    <tr>\n",
       "      <th>0</th>\n",
       "      <td>90%</td>\n",
       "      <td>90%</td>\n",
       "      <td>94%</td>\n",
       "      <td>95%</td>\n",
       "    </tr>\n",
       "    <tr>\n",
       "      <th>1</th>\n",
       "      <td>10%</td>\n",
       "      <td>10%</td>\n",
       "      <td>6%</td>\n",
       "      <td>5%</td>\n",
       "    </tr>\n",
       "  </tbody>\n",
       "</table>\n",
       "</div>"
      ],
      "text/plain": [
       "Unit sequence in call dispatch  1.0  2.0  3.0 All other\n",
       "Target                                                 \n",
       "0                               90%  90%  94%       95%\n",
       "1                               10%  10%   6%        5%"
      ]
     },
     "execution_count": 46,
     "metadata": {},
     "output_type": "execute_result"
    }
   ],
   "source": [
    "crosstab_percentages(fire_df_visuals[\"Target\"],\"Unit sequence in call dispatch\")"
   ]
  },
  {
   "cell_type": "markdown",
   "metadata": {},
   "source": [
    "**This feature does not seem to be a good indicator of the target.**"
   ]
  },
  {
   "cell_type": "code",
   "execution_count": 47,
   "metadata": {},
   "outputs": [
    {
     "name": "stdout",
     "output_type": "stream",
     "text": [
      "Chi_Squared_value = 0.0000000\n"
     ]
    },
    {
     "data": {
      "text/html": [
       "<div>\n",
       "<style scoped>\n",
       "    .dataframe tbody tr th:only-of-type {\n",
       "        vertical-align: middle;\n",
       "    }\n",
       "\n",
       "    .dataframe tbody tr th {\n",
       "        vertical-align: top;\n",
       "    }\n",
       "\n",
       "    .dataframe thead th {\n",
       "        text-align: right;\n",
       "    }\n",
       "</style>\n",
       "<table border=\"1\" class=\"dataframe\">\n",
       "  <thead>\n",
       "    <tr style=\"text-align: right;\">\n",
       "      <th>Number of Alarms</th>\n",
       "      <th>1.0</th>\n",
       "      <th>All other</th>\n",
       "    </tr>\n",
       "    <tr>\n",
       "      <th>Target</th>\n",
       "      <th></th>\n",
       "      <th></th>\n",
       "    </tr>\n",
       "  </thead>\n",
       "  <tbody>\n",
       "    <tr>\n",
       "      <th>0</th>\n",
       "      <td>91%</td>\n",
       "      <td>100%</td>\n",
       "    </tr>\n",
       "    <tr>\n",
       "      <th>1</th>\n",
       "      <td>9%</td>\n",
       "      <td>0%</td>\n",
       "    </tr>\n",
       "  </tbody>\n",
       "</table>\n",
       "</div>"
      ],
      "text/plain": [
       "Number of Alarms  1.0 All other\n",
       "Target                         \n",
       "0                 91%      100%\n",
       "1                  9%        0%"
      ]
     },
     "execution_count": 47,
     "metadata": {},
     "output_type": "execute_result"
    }
   ],
   "source": [
    "crosstab_percentages(fire_df_visuals[\"Target\"],\"Number of Alarms\")"
   ]
  },
  {
   "cell_type": "markdown",
   "metadata": {},
   "source": [
    "**This feature does not seem to be a good indicator of the target.**"
   ]
  },
  {
   "cell_type": "code",
   "execution_count": 48,
   "metadata": {},
   "outputs": [
    {
     "name": "stdout",
     "output_type": "stream",
     "text": [
      "Chi_Squared_value = 0.0000006\n"
     ]
    },
    {
     "data": {
      "text/html": [
       "<div>\n",
       "<style scoped>\n",
       "    .dataframe tbody tr th:only-of-type {\n",
       "        vertical-align: middle;\n",
       "    }\n",
       "\n",
       "    .dataframe tbody tr th {\n",
       "        vertical-align: top;\n",
       "    }\n",
       "\n",
       "    .dataframe thead th {\n",
       "        text-align: right;\n",
       "    }\n",
       "</style>\n",
       "<table border=\"1\" class=\"dataframe\">\n",
       "  <thead>\n",
       "    <tr style=\"text-align: right;\">\n",
       "      <th>Seasons</th>\n",
       "      <th>Fall</th>\n",
       "      <th>Spring</th>\n",
       "      <th>Summer</th>\n",
       "      <th>Winter</th>\n",
       "    </tr>\n",
       "    <tr>\n",
       "      <th>Target</th>\n",
       "      <th></th>\n",
       "      <th></th>\n",
       "      <th></th>\n",
       "      <th></th>\n",
       "    </tr>\n",
       "  </thead>\n",
       "  <tbody>\n",
       "    <tr>\n",
       "      <th>0</th>\n",
       "      <td>91%</td>\n",
       "      <td>90%</td>\n",
       "      <td>91%</td>\n",
       "      <td>91%</td>\n",
       "    </tr>\n",
       "    <tr>\n",
       "      <th>1</th>\n",
       "      <td>9%</td>\n",
       "      <td>10%</td>\n",
       "      <td>9%</td>\n",
       "      <td>9%</td>\n",
       "    </tr>\n",
       "  </tbody>\n",
       "</table>\n",
       "</div>"
      ],
      "text/plain": [
       "Seasons Fall Spring Summer Winter\n",
       "Target                           \n",
       "0        91%    90%    91%    91%\n",
       "1         9%    10%     9%     9%"
      ]
     },
     "execution_count": 48,
     "metadata": {},
     "output_type": "execute_result"
    }
   ],
   "source": [
    "crosstab_percentages(fire_df_visuals[\"Target\"],\"Seasons\")"
   ]
  },
  {
   "cell_type": "markdown",
   "metadata": {},
   "source": [
    "**This feature does not seem to be a good indicator of the target.**"
   ]
  },
  {
   "cell_type": "code",
   "execution_count": 49,
   "metadata": {},
   "outputs": [
    {
     "name": "stdout",
     "output_type": "stream",
     "text": [
      "*******************************************************************************************************************\n"
     ]
    }
   ],
   "source": [
    "print (\"*\"*115)"
   ]
  },
  {
   "cell_type": "markdown",
   "metadata": {},
   "source": [
    "### Numerical Values"
   ]
  },
  {
   "cell_type": "code",
   "execution_count": 50,
   "metadata": {},
   "outputs": [
    {
     "name": "stdout",
     "output_type": "stream",
     "text": [
      "Variance of continous features\n",
      "Longitude    0.000586\n",
      "Latitude     0.000727\n",
      "Target       0.082886\n",
      "dtype: float64\n",
      "*******************************************************************************************************************\n",
      "Even though variance of these continous features is extremely low (therefore making them a candidate for feature extraction), the nature of the feature (being coordinates) is such that we will not extract these features. We will take correlation of these features to assess for any multicollinearity\n",
      "*******************************************************************************************************************\n"
     ]
    },
    {
     "data": {
      "text/html": [
       "<div>\n",
       "<style scoped>\n",
       "    .dataframe tbody tr th:only-of-type {\n",
       "        vertical-align: middle;\n",
       "    }\n",
       "\n",
       "    .dataframe tbody tr th {\n",
       "        vertical-align: top;\n",
       "    }\n",
       "\n",
       "    .dataframe thead th {\n",
       "        text-align: right;\n",
       "    }\n",
       "</style>\n",
       "<table border=\"1\" class=\"dataframe\">\n",
       "  <thead>\n",
       "    <tr style=\"text-align: right;\">\n",
       "      <th></th>\n",
       "      <th>Longitude</th>\n",
       "      <th>Latitude</th>\n",
       "      <th>Target</th>\n",
       "    </tr>\n",
       "  </thead>\n",
       "  <tbody>\n",
       "    <tr>\n",
       "      <th>Longitude</th>\n",
       "      <td>1.000000</td>\n",
       "      <td>0.228215</td>\n",
       "      <td>0.038841</td>\n",
       "    </tr>\n",
       "    <tr>\n",
       "      <th>Latitude</th>\n",
       "      <td>0.228215</td>\n",
       "      <td>1.000000</td>\n",
       "      <td>0.030335</td>\n",
       "    </tr>\n",
       "    <tr>\n",
       "      <th>Target</th>\n",
       "      <td>0.038841</td>\n",
       "      <td>0.030335</td>\n",
       "      <td>1.000000</td>\n",
       "    </tr>\n",
       "  </tbody>\n",
       "</table>\n",
       "</div>"
      ],
      "text/plain": [
       "           Longitude  Latitude    Target\n",
       "Longitude   1.000000  0.228215  0.038841\n",
       "Latitude    0.228215  1.000000  0.030335\n",
       "Target      0.038841  0.030335  1.000000"
      ]
     },
     "execution_count": 50,
     "metadata": {},
     "output_type": "execute_result"
    }
   ],
   "source": [
    "print(\"Variance of continous features\")\n",
    "print(fire_df_visuals[[\"Longitude\",\"Latitude\",\"Target\"]].var())  \n",
    "print(\"*\"*115)\n",
    "print(\"Even though variance of these continous features is extremely low (therefore making them a candidate for feature extraction), the nature of the feature (being coordinates) is such that we will not extract these features. We will take correlation of these features to assess for any multicollinearity\")\n",
    "print(\"*\"*115)\n",
    "fire_df_visuals[[\"Longitude\",\"Latitude\",\"Target\"]].corr()"
   ]
  },
  {
   "cell_type": "code",
   "execution_count": 51,
   "metadata": {},
   "outputs": [
    {
     "data": {
      "text/plain": [
       "<Figure size 1440x576 with 0 Axes>"
      ]
     },
     "metadata": {},
     "output_type": "display_data"
    },
    {
     "data": {
      "image/png": "[encoded data removed]",
      "text/plain": [
       "<Figure size 402.375x360 with 1 Axes>"
      ]
     },
     "metadata": {
      "needs_background": "light"
     },
     "output_type": "display_data"
    },
    {
     "name": "stdout",
     "output_type": "stream",
     "text": [
      "From the scatterplot, we can conclude that a high concentration of false 911 calls were made from the same geographical area\n"
     ]
    }
   ],
   "source": [
    "plt.figure(figsize=(20,8))\n",
    "sns.lmplot(x=\"Longitude\",y=\"Latitude\",data=fire_df_visuals,hue=\"Target\",scatter_kws={'alpha':.02})\n",
    "plt.xticks(rotation='vertical')\n",
    "plt.show()\n",
    "\n",
    "print(\"From the scatterplot, we can conclude that a high concentration of false 911 calls were made from the same geographical area\")"
   ]
  },
  {
   "cell_type": "code",
   "execution_count": 52,
   "metadata": {},
   "outputs": [
    {
     "data": {
      "text/html": [
       "<div>\n",
       "<style scoped>\n",
       "    .dataframe tbody tr th:only-of-type {\n",
       "        vertical-align: middle;\n",
       "    }\n",
       "\n",
       "    .dataframe tbody tr th {\n",
       "        vertical-align: top;\n",
       "    }\n",
       "\n",
       "    .dataframe thead th {\n",
       "        text-align: right;\n",
       "    }\n",
       "</style>\n",
       "<table border=\"1\" class=\"dataframe\">\n",
       "  <thead>\n",
       "    <tr style=\"text-align: right;\">\n",
       "      <th></th>\n",
       "      <th>Longitude</th>\n",
       "      <th>Latitude</th>\n",
       "      <th>Target</th>\n",
       "    </tr>\n",
       "  </thead>\n",
       "  <tbody>\n",
       "    <tr>\n",
       "      <th>count</th>\n",
       "      <td>274866.000000</td>\n",
       "      <td>274866.000000</td>\n",
       "      <td>274866.000000</td>\n",
       "    </tr>\n",
       "    <tr>\n",
       "      <th>mean</th>\n",
       "      <td>37.769633</td>\n",
       "      <td>-122.424553</td>\n",
       "      <td>0.091204</td>\n",
       "    </tr>\n",
       "    <tr>\n",
       "      <th>std</th>\n",
       "      <td>0.024211</td>\n",
       "      <td>0.026965</td>\n",
       "      <td>0.287900</td>\n",
       "    </tr>\n",
       "    <tr>\n",
       "      <th>min</th>\n",
       "      <td>37.708256</td>\n",
       "      <td>-122.513648</td>\n",
       "      <td>0.000000</td>\n",
       "    </tr>\n",
       "    <tr>\n",
       "      <th>25%</th>\n",
       "      <td>37.756494</td>\n",
       "      <td>-122.435001</td>\n",
       "      <td>0.000000</td>\n",
       "    </tr>\n",
       "    <tr>\n",
       "      <th>50%</th>\n",
       "      <td>37.777799</td>\n",
       "      <td>-122.417261</td>\n",
       "      <td>0.000000</td>\n",
       "    </tr>\n",
       "    <tr>\n",
       "      <th>75%</th>\n",
       "      <td>37.785466</td>\n",
       "      <td>-122.408013</td>\n",
       "      <td>0.000000</td>\n",
       "    </tr>\n",
       "    <tr>\n",
       "      <th>max</th>\n",
       "      <td>37.831666</td>\n",
       "      <td>-122.361475</td>\n",
       "      <td>1.000000</td>\n",
       "    </tr>\n",
       "  </tbody>\n",
       "</table>\n",
       "</div>"
      ],
      "text/plain": [
       "           Longitude       Latitude         Target\n",
       "count  274866.000000  274866.000000  274866.000000\n",
       "mean       37.769633    -122.424553       0.091204\n",
       "std         0.024211       0.026965       0.287900\n",
       "min        37.708256    -122.513648       0.000000\n",
       "25%        37.756494    -122.435001       0.000000\n",
       "50%        37.777799    -122.417261       0.000000\n",
       "75%        37.785466    -122.408013       0.000000\n",
       "max        37.831666    -122.361475       1.000000"
      ]
     },
     "execution_count": 52,
     "metadata": {},
     "output_type": "execute_result"
    }
   ],
   "source": [
    "fire_df_visuals[[\"Longitude\",\"Latitude\",\"Target\"]].describe()  \n",
    "\n",
    "#Getting basic info about longitude/latitude (min,max)"
   ]
  },
  {
   "cell_type": "code",
   "execution_count": 53,
   "metadata": {},
   "outputs": [
    {
     "name": "stdout",
     "output_type": "stream",
     "text": [
      "*******************************************************************************************************************\n",
      "From the stats above, we note that the median value is greater than the mean - indicating the distribution is going to be skewed to the left. Lets see if this is true by drawing histograms.\n"
     ]
    }
   ],
   "source": [
    "print(\"*\"*115)\n",
    "print(\"From the stats above, we note that the median value is greater than the mean - indicating the distribution is going to be skewed to the left. Lets see if this is true by drawing histograms.\")"
   ]
  },
  {
   "cell_type": "code",
   "execution_count": 54,
   "metadata": {},
   "outputs": [
    {
     "data": {
      "image/png": "[encoded data removed]",
      "text/plain": [
       "<Figure size 432x288 with 1 Axes>"
      ]
     },
     "metadata": {
      "needs_background": "light"
     },
     "output_type": "display_data"
    }
   ],
   "source": [
    "fire_df_visuals[\"Longitude\"].plot.hist(edgecolor=\"black\")\n",
    "plt.show()"
   ]
  },
  {
   "cell_type": "code",
   "execution_count": 55,
   "metadata": {},
   "outputs": [
    {
     "data": {
      "image/png": "[encoded data removed]",
      "text/plain": [
       "<Figure size 432x288 with 1 Axes>"
      ]
     },
     "metadata": {
      "needs_background": "light"
     },
     "output_type": "display_data"
    }
   ],
   "source": [
    "fire_df_visuals[\"Latitude\"].plot.hist(edgecolor=\"black\")\n",
    "plt.show()"
   ]
  },
  {
   "cell_type": "markdown",
   "metadata": {},
   "source": [
    "### Conclusion from Data Exploration: there does not seem to be any linear relationship between any of the features and the target. As such, during our modeling phase, we can expect Logistic Regression to not have high accuracy metrics."
   ]
  },
  {
   "cell_type": "markdown",
   "metadata": {},
   "source": [
    "### 3C. OVER SAMPLING TO COUNTER TARGET IMBALANCE ###"
   ]
  },
  {
   "cell_type": "markdown",
   "metadata": {},
   "source": [
    "Because of the target class imbalance (90/10), we are synthetically adding the minority class for better prediction purposes."
   ]
  },
  {
   "cell_type": "code",
   "execution_count": 56,
   "metadata": {},
   "outputs": [],
   "source": [
    "fire_df_target_positive=fire_df[fire_df[\"Target\"]==1] \n",
    "\n",
    "fire_df=fire_df.append(fire_df_target_positive)\n",
    "fire_df=fire_df.append(fire_df_target_positive)\n",
    "fire_df=fire_df.append(fire_df_target_positive)\n",
    "fire_df=fire_df.append(fire_df_target_positive)\n",
    "fire_df=fire_df.append(fire_df_target_positive)\n",
    "fire_df=fire_df.append(fire_df_target_positive)\n",
    "fire_df=fire_df.append(fire_df_target_positive)"
   ]
  },
  {
   "cell_type": "code",
   "execution_count": 57,
   "metadata": {},
   "outputs": [
    {
     "data": {
      "image/png": "[encoded data removed]",
      "text/plain": [
       "<Figure size 864x432 with 1 Axes>"
      ]
     },
     "metadata": {
      "needs_background": "light"
     },
     "output_type": "display_data"
    }
   ],
   "source": [
    "plt.figure(figsize=(12,6))\n",
    "\n",
    "\n",
    "g = sns.countplot(x='Target', data=fire_df, color='green')\n",
    "g.set_title(\"REVISED TARGET DISTRIBUTION\", fontsize = 20)\n",
    "g.set_xlabel(\"Target Vaues\", fontsize = 15)\n",
    "g.set_ylabel(\"Count\", fontsize = 15)\n",
    "\n",
    "\n",
    "for p in g.patches:\n",
    "    g.text( p.get_x()+p.get_width()/2,     p.get_height()+3,    '{:1.2f}%'.format(p.get_height()/len(fire_df)*100), ha=\"center\", fontsize=14) \n",
    "\n",
    "plt.show()"
   ]
  },
  {
   "cell_type": "code",
   "execution_count": 58,
   "metadata": {},
   "outputs": [
    {
     "data": {
      "text/plain": [
       "(450349, 65)"
      ]
     },
     "execution_count": 58,
     "metadata": {},
     "output_type": "execute_result"
    }
   ],
   "source": [
    "fire_df.shape"
   ]
  },
  {
   "cell_type": "markdown",
   "metadata": {},
   "source": [
    "## 4. MODELING ##"
   ]
  },
  {
   "cell_type": "code",
   "execution_count": 59,
   "metadata": {},
   "outputs": [],
   "source": [
    "y=fire_df[\"Target\"]\n",
    "X=fire_df.drop(\"Target\",axis=1)"
   ]
  },
  {
   "cell_type": "code",
   "execution_count": 60,
   "metadata": {},
   "outputs": [],
   "source": [
    "X_train, X_test, y_train, y_test = train_test_split(X, y, test_size=0.30,random_state=2)"
   ]
  },
  {
   "cell_type": "markdown",
   "metadata": {},
   "source": [
    "### **4A. BASELINE**  ###"
   ]
  },
  {
   "cell_type": "code",
   "execution_count": 61,
   "metadata": {},
   "outputs": [
    {
     "name": "stdout",
     "output_type": "stream",
     "text": [
      "col_0       0      1\n",
      "Target              \n",
      "0       48505  26199\n",
      "1       25082  35319\n",
      "**************************************************\n",
      "Accuracy is:0.62\n",
      "Precision is:0.57\n",
      "Recall is:0.58\n",
      "F1 score is:0.58\n",
      "**************************************************\n"
     ]
    },
    {
     "data": {
      "text/plain": [
       "array([0.51721473, 0.41253023, 0.62488158, 0.50244328, 0.54632261])"
      ]
     },
     "execution_count": 61,
     "metadata": {},
     "output_type": "execute_result"
    }
   ],
   "source": [
    "lrc=LogisticRegression(random_state=1)  # default C=1, penalty =l2 (Ridge)\n",
    "lrc.fit(X_train,y_train)\n",
    "y_pred=lrc.predict(X_test)\n",
    "print(pd.crosstab(y_test,y_pred))\n",
    "print(\"*\"*50)\n",
    "print('Accuracy is:'+str(round(accuracy_score(y_test, y_pred),2)))\n",
    "print('Precision is:'+str(round(precision_score(y_test, y_pred),2)))\n",
    "print('Recall is:'+str(round(recall_score(y_test, y_pred, average='binary'),2)))\n",
    "print('F1 score is:'+str(round(f1_score(y_test, y_pred, average='binary'),2)))\n",
    "print(\"*\"*50)\n",
    "\n",
    "LogReg=round(recall_score(y_test, y_pred, average='binary'),2)\n",
    "\n",
    "cross_val_score(lrc, X, y, cv=5, scoring='recall')"
   ]
  },
  {
   "cell_type": "markdown",
   "metadata": {},
   "source": [
    "**Comments**: As expected, metrics from the Confusion matrix are relatively low. Because we really want to minimize Type 2 error, we will look for another algorithm with less False negatives and a better recall score."
   ]
  },
  {
   "cell_type": "code",
   "execution_count": 62,
   "metadata": {},
   "outputs": [
    {
     "name": "stdout",
     "output_type": "stream",
     "text": [
      "*******************************************************************************************************************\n"
     ]
    }
   ],
   "source": [
    "print(\"*\"*115)"
   ]
  },
  {
   "cell_type": "markdown",
   "metadata": {},
   "source": [
    "### **4B. BAGGING ALGORITHM (Parallel Learners - Random Forest)**  ###"
   ]
  },
  {
   "cell_type": "code",
   "execution_count": 63,
   "metadata": {},
   "outputs": [
    {
     "name": "stdout",
     "output_type": "stream",
     "text": [
      "col_0       0      1\n",
      "Target              \n",
      "0       72111   2593\n",
      "1          40  60361\n",
      "**************************************************\n",
      "Accuracy is:0.98\n",
      "Precision is:0.96\n",
      "Recall is:1.0\n",
      "F1 score is:0.98\n",
      "**************************************************\n"
     ]
    },
    {
     "data": {
      "text/plain": [
       "array([0.99995014, 1.        , 1.        , 1.        , 1.        ])"
      ]
     },
     "execution_count": 63,
     "metadata": {},
     "output_type": "execute_result"
    }
   ],
   "source": [
    "rfc=RandomForestClassifier(random_state=1)  #n_estimators = 10, max_depth=none   max_features = sqrt(# of features),  min_leaf =1,  min_split =2\n",
    "rfc.fit(X_train,y_train)\n",
    "y_pred=rfc.predict(X_test)\n",
    "print(pd.crosstab(y_test,y_pred))\n",
    "print(\"*\"*50)\n",
    "print('Accuracy is:'+str(round(accuracy_score(y_test, y_pred),2)))\n",
    "print('Precision is:'+str(round(precision_score(y_test, y_pred),2)))\n",
    "print('Recall is:'+str(round(recall_score(y_test, y_pred, average='binary'),2)))\n",
    "print('F1 score is:'+str(round(f1_score(y_test, y_pred, average='binary'),2)))\n",
    "print(\"*\"*50)\n",
    "\n",
    "Random_Forest=round(recall_score(y_test, y_pred, average='binary'),2)\n",
    "\n",
    "cross_val_score(rfc, X, y, cv=5, scoring='recall')"
   ]
  },
  {
   "cell_type": "markdown",
   "metadata": {},
   "source": [
    "**Comments**:: At first glance, there seems to be something wrong with out model. It is giving a perfect recall score. It could be overfitting but the score is on the ... test dataset? \n",
    "\n",
    "\n",
    "One possible reason for such scores could be that the test portion is rather small. However, we increased our testing size from the original 25% to 30% but did not see any changes in scoring metrics.\n",
    "\n",
    "Another possible reason for such scores could be that the test dataset is very similar to the training dataset. In such cases, our model would work if new data is indeed very similar to trained data. One way to test that would be to feed a similar dataset from a different city to assess the quality of the model.\n",
    "\n",
    "Lastly, we scrutinized the default parameters and noticed that the depth of the tree is not indicated, the min_samples_split is 2 and the min_samples_leaf is 1! In short, it is a very long tree. Because our dataset is relatively small, it is not computation-expensive to have such a long tree with a leaf of 1. However if our dataset was much larger, it would be very memory-intensive to generate such a tree on a scale indicated by the number of trees parameter. \n",
    "\n",
    "To anticipate larger datasets, we will now employ the same model but we will tune in the hyperparameters resulting in a bit more variance and lower scoring metrics."
   ]
  },
  {
   "cell_type": "markdown",
   "metadata": {},
   "source": [
    "**Random Forest - tuning parameters**"
   ]
  },
  {
   "cell_type": "code",
   "execution_count": 64,
   "metadata": {},
   "outputs": [
    {
     "name": "stdout",
     "output_type": "stream",
     "text": [
      "col_0       0      1\n",
      "Target              \n",
      "0       51696  23008\n",
      "1       22233  38168\n",
      "**************************************************\n",
      "Accuracy is:0.67\n",
      "Precision is:0.62\n",
      "Recall is:0.63\n",
      "F1 score is:0.63\n",
      "**************************************************\n"
     ]
    },
    {
     "data": {
      "text/plain": [
       "array([0.58976341, 0.51576874, 0.66706557, 0.58925455, 0.64303166])"
      ]
     },
     "execution_count": 64,
     "metadata": {},
     "output_type": "execute_result"
    }
   ],
   "source": [
    "rfc=RandomForestClassifier(n_estimators=100, min_samples_split=40, min_samples_leaf=20,max_depth=10,random_state=1)  #n_estimators = 10, max_depth=none   max_features = sqrt(# of features),  min_leaf =1,  min_split =2\n",
    "rfc.fit(X_train,y_train)\n",
    "y_pred=rfc.predict(X_test)\n",
    "print(pd.crosstab(y_test,y_pred))\n",
    "print(\"*\"*50)\n",
    "print('Accuracy is:'+str(round(accuracy_score(y_test, y_pred),2)))\n",
    "print('Precision is:'+str(round(precision_score(y_test, y_pred),2)))\n",
    "print('Recall is:'+str(round(recall_score(y_test, y_pred, average='binary'),2)))\n",
    "print('F1 score is:'+str(round(f1_score(y_test, y_pred, average='binary'),2)))\n",
    "print(\"*\"*50)\n",
    "\n",
    "Random_Forest_tuned=round(recall_score(y_test, y_pred, average='binary'),2)\n",
    "\n",
    "cross_val_score(rfc, X, y, cv=5, scoring='recall')"
   ]
  },
  {
   "cell_type": "markdown",
   "metadata": {},
   "source": [
    "**Comments**: Based on rule-of-thumb parameters tuning, best recall score we can get is 63%. Let's try boosting algorithms to see if we can get a better score."
   ]
  },
  {
   "cell_type": "markdown",
   "metadata": {},
   "source": [
    "### **4C. BOOSTING ALGORITHM (Sequential Learners)**  ###"
   ]
  },
  {
   "cell_type": "markdown",
   "metadata": {},
   "source": [
    "**GradientBoosting Classifer**"
   ]
  },
  {
   "cell_type": "code",
   "execution_count": 66,
   "metadata": {},
   "outputs": [
    {
     "name": "stdout",
     "output_type": "stream",
     "text": [
      "col_0       0      1\n",
      "Target              \n",
      "0       59476  15228\n",
      "1       11801  48600\n",
      "**************************************************\n",
      "Accuracy is:0.8\n",
      "Precision is:0.76\n",
      "Recall is:0.8\n",
      "F1 score is:0.78\n",
      "**************************************************\n"
     ]
    }
   ],
   "source": [
    "gbc = GradientBoostingClassifier(n_estimators=100, min_samples_split=40, min_samples_leaf=20,max_depth=10,random_state=1)\n",
    "gbc.fit(X_train,y_train)\n",
    "y_pred=gbc.predict(X_test)\n",
    "print(pd.crosstab(y_test,y_pred))\n",
    "print(\"*\"*50)\n",
    "print('Accuracy is:'+str(round(accuracy_score(y_test, y_pred),2)))\n",
    "print('Precision is:'+str(round(precision_score(y_test, y_pred),2)))\n",
    "print('Recall is:'+str(round(recall_score(y_test, y_pred, average='binary'),2)))\n",
    "print('F1 score is:'+str(round(f1_score(y_test, y_pred, average='binary'),2)))\n",
    "print(\"*\"*50)\n",
    "\n",
    "Grad_Boost_I=round(recall_score(y_test, y_pred, average='binary'),2)"
   ]
  },
  {
   "cell_type": "markdown",
   "metadata": {},
   "source": [
    "**Comments**: Through GBC, we were able to improve our recall score using identical parameters as random forest to 80%. This does make sense since each classifier is built sequentially learning from the previous classifer. Even though we were able to get a score of 80%, lets try another boosting algorithm, Adaboost, to see if we can get even a better score. "
   ]
  },
  {
   "cell_type": "markdown",
   "metadata": {},
   "source": [
    "**AdaBoost**"
   ]
  },
  {
   "cell_type": "code",
   "execution_count": 67,
   "metadata": {},
   "outputs": [
    {
     "name": "stdout",
     "output_type": "stream",
     "text": [
      "col_0       0      1\n",
      "Target              \n",
      "0       49242  25462\n",
      "1       25679  34722\n",
      "**************************************************\n",
      "Accuracy is:0.62\n",
      "Precision is:0.58\n",
      "Recall is:0.57\n",
      "F1 score is:0.58\n",
      "**************************************************\n"
     ]
    }
   ],
   "source": [
    "abc = AdaBoostClassifier(n_estimators=100, learning_rate=1,random_state=1)\n",
    "abc.fit(X_train,y_train)\n",
    "y_pred=abc.predict(X_test)\n",
    "print(pd.crosstab(y_test,y_pred))\n",
    "print(\"*\"*50)\n",
    "print('Accuracy is:'+str(round(accuracy_score(y_test, y_pred),2)))\n",
    "print('Precision is:'+str(round(precision_score(y_test, y_pred),2)))\n",
    "print('Recall is:'+str(round(recall_score(y_test, y_pred, average='binary'),2)))\n",
    "print('F1 score is:'+str(round(f1_score(y_test, y_pred, average='binary'),2)))\n",
    "print(\"*\"*50)\n",
    "\n",
    "AdaBoost=round(recall_score(y_test, y_pred, average='binary'),2)"
   ]
  },
  {
   "cell_type": "markdown",
   "metadata": {},
   "source": [
    "**Comments**: Our recall score went down in this algorithm. So far, our highest score is 80%. Lets try to perform a bit of additional feature engineering by narrowing down important features from Gradient Boosting Classifer."
   ]
  },
  {
   "cell_type": "markdown",
   "metadata": {},
   "source": [
    "### **4D. FEATURE IMPORTANCE**  ###"
   ]
  },
  {
   "cell_type": "code",
   "execution_count": 68,
   "metadata": {},
   "outputs": [
    {
     "data": {
      "text/plain": [
       "Text(0.5, 1.0, 'Feature Importance (GBC)')"
      ]
     },
     "execution_count": 68,
     "metadata": {},
     "output_type": "execute_result"
    },
    {
     "data": {
      "image/png": "[encoded data removed]",
      "text/plain": [
       "<Figure size 1296x648 with 1 Axes>"
      ]
     },
     "metadata": {
      "needs_background": "light"
     },
     "output_type": "display_data"
    }
   ],
   "source": [
    "Importance=gbc.feature_importances_\n",
    "Columns=X_train.columns\n",
    "\n",
    "Importance,Columns=zip(*sorted(zip(Importance, Columns),reverse=True))\n",
    "\n",
    "\n",
    "plt.figure(figsize=(18,9))\n",
    "plt.xticks(rotation=\"vertical\")\n",
    "plt.bar(x=Columns,height=Importance)\n",
    "plt.ylabel(\"Importance\")\n",
    "plt.xlabel(\"Features\")\n",
    "plt.title (\"Feature Importance (GBC)\")"
   ]
  },
  {
   "cell_type": "code",
   "execution_count": 69,
   "metadata": {},
   "outputs": [
    {
     "data": {
      "text/plain": [
       "(array([23, 24, 25, 26, 27, 28, 29, 30, 31, 32, 33, 34, 35, 36, 37, 38, 39,\n",
       "        40, 41, 42, 43, 44, 45, 46, 47, 48, 49, 50, 51, 52, 53, 54, 55, 56,\n",
       "        57, 58, 59, 60, 61, 62, 63], dtype=int64),)"
      ]
     },
     "execution_count": 69,
     "metadata": {},
     "output_type": "execute_result"
    }
   ],
   "source": [
    "Importance=np.array(Importance)\n",
    "np.where(Importance.cumsum()>.90)  #retrieving the number of features that make up 90% of the value"
   ]
  },
  {
   "cell_type": "code",
   "execution_count": 70,
   "metadata": {},
   "outputs": [],
   "source": [
    "#Setting up new dataframe with features that make up 90% of the value\n",
    "\n",
    "X_revised=X[list(Columns[:24])]  \n",
    "y=fire_df[\"Target\"]"
   ]
  },
  {
   "cell_type": "code",
   "execution_count": 71,
   "metadata": {},
   "outputs": [],
   "source": [
    "X_train_rev, X_test_rev, y_train, y_test = train_test_split(X_revised, y, test_size=0.30,random_state=2)"
   ]
  },
  {
   "cell_type": "code",
   "execution_count": 72,
   "metadata": {},
   "outputs": [
    {
     "name": "stdout",
     "output_type": "stream",
     "text": [
      "col_0       0      1\n",
      "Target              \n",
      "0       59889  14815\n",
      "1       11310  49091\n",
      "**************************************************\n",
      "Accuracy is:0.81\n",
      "Precision is:0.77\n",
      "Recall is:0.81\n",
      "F1 score is:0.79\n",
      "**************************************************\n"
     ]
    }
   ],
   "source": [
    "gbc_rev = GradientBoostingClassifier(n_estimators=100, min_samples_split=40, min_samples_leaf=20,max_depth=10,random_state=1)\n",
    "gbc_rev.fit(X_train_rev,y_train)\n",
    "y_pred=gbc_rev.predict(X_test_rev)\n",
    "print(pd.crosstab(y_test,y_pred))\n",
    "print(\"*\"*50)\n",
    "print('Accuracy is:'+str(round(accuracy_score(y_test, y_pred),2)))\n",
    "print('Precision is:'+str(round(precision_score(y_test, y_pred),2)))\n",
    "print('Recall is:'+str(round(recall_score(y_test, y_pred, average='binary'),2)))\n",
    "print('F1 score is:'+str(round(f1_score(y_test, y_pred, average='binary'),2)))\n",
    "print(\"*\"*50)\n",
    "\n",
    "Grad_Boost_II=round(recall_score(y_test, y_pred, average='binary'),2)"
   ]
  },
  {
   "cell_type": "markdown",
   "metadata": {},
   "source": [
    "**Comments**: GradientBoosting after feature extraction seems to have the highest score."
   ]
  },
  {
   "cell_type": "markdown",
   "metadata": {},
   "source": [
    "## **5. CONCLUSION**  ##"
   ]
  },
  {
   "cell_type": "code",
   "execution_count": 73,
   "metadata": {},
   "outputs": [
    {
     "data": {
      "text/html": [
       "<div>\n",
       "<style scoped>\n",
       "    .dataframe tbody tr th:only-of-type {\n",
       "        vertical-align: middle;\n",
       "    }\n",
       "\n",
       "    .dataframe tbody tr th {\n",
       "        vertical-align: top;\n",
       "    }\n",
       "\n",
       "    .dataframe thead th {\n",
       "        text-align: right;\n",
       "    }\n",
       "</style>\n",
       "<table border=\"1\" class=\"dataframe\">\n",
       "  <thead>\n",
       "    <tr style=\"text-align: right;\">\n",
       "      <th></th>\n",
       "      <th>Classifiers</th>\n",
       "      <th>Scores</th>\n",
       "    </tr>\n",
       "  </thead>\n",
       "  <tbody>\n",
       "    <tr>\n",
       "      <th>4</th>\n",
       "      <td>AdaBoost</td>\n",
       "      <td>0.57</td>\n",
       "    </tr>\n",
       "    <tr>\n",
       "      <th>0</th>\n",
       "      <td>Log_Reg</td>\n",
       "      <td>0.58</td>\n",
       "    </tr>\n",
       "    <tr>\n",
       "      <th>2</th>\n",
       "      <td>Random_Forest(tuned)</td>\n",
       "      <td>0.63</td>\n",
       "    </tr>\n",
       "    <tr>\n",
       "      <th>3</th>\n",
       "      <td>Grad_Boost(tuned)</td>\n",
       "      <td>0.80</td>\n",
       "    </tr>\n",
       "    <tr>\n",
       "      <th>5</th>\n",
       "      <td>Grad_Boost( * FI)</td>\n",
       "      <td>0.81</td>\n",
       "    </tr>\n",
       "    <tr>\n",
       "      <th>1</th>\n",
       "      <td>Random_Forest(no tuning)</td>\n",
       "      <td>1.00</td>\n",
       "    </tr>\n",
       "  </tbody>\n",
       "</table>\n",
       "</div>"
      ],
      "text/plain": [
       "                Classifiers  Scores\n",
       "4                  AdaBoost    0.57\n",
       "0                   Log_Reg    0.58\n",
       "2      Random_Forest(tuned)    0.63\n",
       "3         Grad_Boost(tuned)    0.80\n",
       "5         Grad_Boost( * FI)    0.81\n",
       "1  Random_Forest(no tuning)    1.00"
      ]
     },
     "execution_count": 73,
     "metadata": {},
     "output_type": "execute_result"
    }
   ],
   "source": [
    "Classifers=['Log_Reg', 'Random_Forest(no tuning)', 'Random_Forest(tuned)', \"Grad_Boost(tuned)\", \"AdaBoost\", \"Grad_Boost( * FI)\" ]\n",
    "\n",
    "Scores=[LogReg, Random_Forest, Random_Forest_tuned, Grad_Boost_I, AdaBoost, Grad_Boost_II ]\n",
    "\n",
    "Scores_df=pd.DataFrame(list(zip(Classifers,Scores)),columns=[\"Classifiers\",\"Scores\"])\n",
    "\n",
    "Scores_df.sort_values(\"Scores\")"
   ]
  },
  {
   "cell_type": "code",
   "execution_count": 74,
   "metadata": {},
   "outputs": [
    {
     "ename": "NameError",
     "evalue": "name 'Classifiers' is not defined",
     "output_type": "error",
     "traceback": [
      "\u001b[1;31m---------------------------------------------------------------------------\u001b[0m",
      "\u001b[1;31mNameError\u001b[0m                                 Traceback (most recent call last)",
      "\u001b[1;32m<ipython-input-74-b033d71035d3>\u001b[0m in \u001b[0;36m<module>\u001b[1;34m\u001b[0m\n\u001b[0;32m      1\u001b[0m \u001b[0mfig\u001b[0m\u001b[1;33m,\u001b[0m \u001b[0max\u001b[0m \u001b[1;33m=\u001b[0m \u001b[0mplt\u001b[0m\u001b[1;33m.\u001b[0m\u001b[0msubplots\u001b[0m\u001b[1;33m(\u001b[0m\u001b[1;33m)\u001b[0m\u001b[1;33m\u001b[0m\u001b[1;33m\u001b[0m\u001b[0m\n\u001b[0;32m      2\u001b[0m \u001b[0mfig\u001b[0m\u001b[1;33m.\u001b[0m\u001b[0mset_size_inches\u001b[0m\u001b[1;33m(\u001b[0m\u001b[1;36m15\u001b[0m\u001b[1;33m,\u001b[0m\u001b[1;36m7\u001b[0m\u001b[1;33m)\u001b[0m\u001b[1;33m\u001b[0m\u001b[1;33m\u001b[0m\u001b[0m\n\u001b[1;32m----> 3\u001b[1;33m \u001b[0msns\u001b[0m\u001b[1;33m.\u001b[0m\u001b[0mbarplot\u001b[0m\u001b[1;33m(\u001b[0m\u001b[0mx\u001b[0m\u001b[1;33m=\u001b[0m\u001b[0mClassifiers\u001b[0m\u001b[1;33m,\u001b[0m \u001b[0my\u001b[0m\u001b[1;33m=\u001b[0m\u001b[0mScores\u001b[0m\u001b[1;33m,\u001b[0m \u001b[0max\u001b[0m\u001b[1;33m=\u001b[0m\u001b[0max\u001b[0m\u001b[1;33m)\u001b[0m\u001b[1;33m\u001b[0m\u001b[1;33m\u001b[0m\u001b[0m\n\u001b[0m\u001b[0;32m      4\u001b[0m \u001b[0mplt\u001b[0m\u001b[1;33m.\u001b[0m\u001b[0mylabel\u001b[0m\u001b[1;33m(\u001b[0m\u001b[1;34m'RECALL'\u001b[0m\u001b[1;33m)\u001b[0m\u001b[1;33m\u001b[0m\u001b[1;33m\u001b[0m\u001b[0m\n\u001b[0;32m      5\u001b[0m \u001b[0mplt\u001b[0m\u001b[1;33m.\u001b[0m\u001b[0mXlabel\u001b[0m\u001b[1;33m(\u001b[0m\u001b[1;34m'CLASSIFIERS'\u001b[0m\u001b[1;33m)\u001b[0m\u001b[1;33m\u001b[0m\u001b[1;33m\u001b[0m\u001b[0m\n",
      "\u001b[1;31mNameError\u001b[0m: name 'Classifiers' is not defined"
     ]
    },
    {
     "data": {
      "image/png": "[encoded data removed]",
      "text/plain": [
       "<Figure size 1080x504 with 1 Axes>"
      ]
     },
     "metadata": {
      "needs_background": "light"
     },
     "output_type": "display_data"
    }
   ],
   "source": [
    "fig, ax = plt.subplots()\n",
    "fig.set_size_inches(15,7)\n",
    "sns.barplot(x=Classifiers, y=Scores, ax=ax)\n",
    "plt.ylabel('RECALL')\n",
    "plt.Xlabel('CLASSIFIERS')\n",
    "plt.xticks(rotation='vertical')\n",
    "plt.show()"
   ]
  },
  {
   "cell_type": "markdown",
   "metadata": {},
   "source": [
    "### 5A. WINNER ###"
   ]
  },
  {
   "cell_type": "markdown",
   "metadata": {},
   "source": [
    "**Winner : Gradient Boosting(*after Feature Importance)**. Even though Random Forest (with no tuning) scores the highest recall score (virtually 100%), it may be susceptible to overfitting on larger datasets. As such, we would go with the second highest score - which is Gradient Boosting (after Feature extraction). Its recall score of 81% is marginally higher than the original Gradient Boosting score of 80% and the model is flexible enough to handle larger different datasets. "
   ]
  },
  {
   "cell_type": "code",
   "execution_count": null,
   "metadata": {},
   "outputs": [],
   "source": []
  }
 ],
 "metadata": {
  "kernelspec": {
   "display_name": "Python 3",
   "language": "python",
   "name": "python3"
  }
 },
 "nbformat": 4,
 "nbformat_minor": 2
}
